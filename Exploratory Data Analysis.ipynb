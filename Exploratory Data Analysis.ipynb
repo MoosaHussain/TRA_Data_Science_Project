{
 "cells": [
  {
   "cell_type": "code",
   "execution_count": 4,
   "metadata": {},
   "outputs": [],
   "source": [
    "# Loading all the library\n",
    "import pandas as pd\n",
    "import numpy as np\n",
    "import os\n",
    "import time\n",
    "\n",
    "#General sci-Kit libraries for AI\n",
    "from sklearn.linear_model import LogisticRegression\n",
    "from sklearn.ensemble import AdaBoostClassifier\n",
    "from sklearn.tree import DecisionTreeClassifier\n",
    "from sklearn.svm import SVC\n",
    "from sklearn.ensemble import RandomForestClassifier\n",
    "from sklearn.neighbors import NearestNeighbors\n",
    "\n",
    "from sklearn.preprocessing import OneHotEncoder, LabelEncoder\n",
    "from sklearn.model_selection import train_test_split, StratifiedKFold, KFold, cross_val_score, GridSearchCV, RepeatedStratifiedKFold\n",
    "\n",
    "from sklearn.metrics import accuracy_score, confusion_matrix, precision_score, recall_score, classification_report\n",
    "from sklearn.metrics import roc_auc_score, roc_curve, log_loss\n",
    "from scipy.stats import norm\n",
    "# import xgboost as xgb\n",
    "# import lightgbm as lgb\n",
    "from sklearn.ensemble import RandomForestClassifier\n",
    "# from lightgbm import LGBMClassifier\n",
    "\n",
    "### Visualization libraries\n",
    "import matplotlib.pyplot as pyplot\n",
    "%matplotlib inline\n",
    "import seaborn as sns\n",
    "sns.set()\n",
    "\n",
    "### Helper libraries\n",
    "from GeneralHelper import *\n",
    "\n",
    "# Ignoreing all the warning\n",
    "import warnings\n",
    "warnings.filterwarnings(\"ignore\")"
   ]
  },
  {
   "cell_type": "code",
   "execution_count": 5,
   "metadata": {},
   "outputs": [
    {
     "data": {
      "text/plain": [
       "89587"
      ]
     },
     "execution_count": 5,
     "metadata": {},
     "output_type": "execute_result"
    }
   ],
   "source": [
    "bookings_df = pd.read_excel('bookings_dat_2017_2020.xlsx')\n",
    "list = ['Unnamed: 0']\n",
    "bookings_df = bookings_df.drop(list, axis = 1)\n",
    "len(bookings_df)"
   ]
  },
  {
   "cell_type": "code",
   "execution_count": 6,
   "metadata": {},
   "outputs": [
    {
     "data": {
      "text/plain": [
       "Index(['ORDERID', 'OriginalOrderId', 'Program', 'Participant', 'Promotion',\n",
       "       'Campaign', 'RVOwner', 'AgentName', 'Resort', 'TourType', 'Wave',\n",
       "       'isTour', 'SecondConfirmDate', 'BookingCreatedDate',\n",
       "       'BookingScheduledDate', 'BookingAge', 'BookingConfirmationAge',\n",
       "       'IsRescheduledBooking', 'ScheduledDayOfWeek'],\n",
       "      dtype='object')"
      ]
     },
     "execution_count": 6,
     "metadata": {},
     "output_type": "execute_result"
    }
   ],
   "source": [
    "EDA_df = bookings_df\n",
    "# 'WeekNumber','FinalDisposition','SecondConfirmDate','BookingConfirmationAge','ORDERID', 'OriginalOrderId'\n",
    "list = ['WeekNumber','FinalDisposition']\n",
    "EDA_df = EDA_df.drop(list, axis = 1)\n",
    "EDA_df.columns"
   ]
  },
  {
   "cell_type": "code",
   "execution_count": 7,
   "metadata": {},
   "outputs": [
    {
     "name": "stdout",
     "output_type": "stream",
     "text": [
      "<class 'pandas.core.frame.DataFrame'>\n",
      "RangeIndex: 89587 entries, 0 to 89586\n",
      "Data columns (total 19 columns):\n",
      " #   Column                  Non-Null Count  Dtype         \n",
      "---  ------                  --------------  -----         \n",
      " 0   ORDERID                 89587 non-null  int64         \n",
      " 1   OriginalOrderId         89587 non-null  int64         \n",
      " 2   Program                 89390 non-null  object        \n",
      " 3   Participant             89451 non-null  object        \n",
      " 4   Promotion               67167 non-null  object        \n",
      " 5   Campaign                86587 non-null  object        \n",
      " 6   RVOwner                 82066 non-null  object        \n",
      " 7   AgentName               86705 non-null  object        \n",
      " 8   Resort                  89587 non-null  object        \n",
      " 9   TourType                89587 non-null  object        \n",
      " 10  Wave                    89587 non-null  int64         \n",
      " 11  isTour                  89587 non-null  bool          \n",
      " 12  SecondConfirmDate       83639 non-null  object        \n",
      " 13  BookingCreatedDate      89587 non-null  datetime64[ns]\n",
      " 14  BookingScheduledDate    89587 non-null  datetime64[ns]\n",
      " 15  BookingAge              89587 non-null  int64         \n",
      " 16  BookingConfirmationAge  83639 non-null  float64       \n",
      " 17  IsRescheduledBooking    89587 non-null  bool          \n",
      " 18  ScheduledDayOfWeek      89587 non-null  object        \n",
      "dtypes: bool(2), datetime64[ns](2), float64(1), int64(4), object(10)\n",
      "memory usage: 11.8+ MB\n"
     ]
    }
   ],
   "source": [
    "EDA_df.info()"
   ]
  },
  {
   "cell_type": "code",
   "execution_count": 8,
   "metadata": {},
   "outputs": [
    {
     "data": {
      "text/html": [
       "<div>\n",
       "<style scoped>\n",
       "    .dataframe tbody tr th:only-of-type {\n",
       "        vertical-align: middle;\n",
       "    }\n",
       "\n",
       "    .dataframe tbody tr th {\n",
       "        vertical-align: top;\n",
       "    }\n",
       "\n",
       "    .dataframe thead th {\n",
       "        text-align: right;\n",
       "    }\n",
       "</style>\n",
       "<table border=\"1\" class=\"dataframe\">\n",
       "  <thead>\n",
       "    <tr style=\"text-align: right;\">\n",
       "      <th></th>\n",
       "      <th>ORDERID</th>\n",
       "      <th>OriginalOrderId</th>\n",
       "      <th>Program</th>\n",
       "      <th>Participant</th>\n",
       "      <th>Promotion</th>\n",
       "      <th>Campaign</th>\n",
       "      <th>RVOwner</th>\n",
       "      <th>AgentName</th>\n",
       "      <th>Resort</th>\n",
       "      <th>TourType</th>\n",
       "      <th>Wave</th>\n",
       "      <th>isTour</th>\n",
       "      <th>SecondConfirmDate</th>\n",
       "      <th>BookingCreatedDate</th>\n",
       "      <th>BookingScheduledDate</th>\n",
       "      <th>BookingAge</th>\n",
       "      <th>BookingConfirmationAge</th>\n",
       "      <th>IsRescheduledBooking</th>\n",
       "      <th>ScheduledDayOfWeek</th>\n",
       "    </tr>\n",
       "  </thead>\n",
       "  <tbody>\n",
       "    <tr>\n",
       "      <th>0</th>\n",
       "      <td>10249329</td>\n",
       "      <td>0</td>\n",
       "      <td>PRINT - DIRECT MAIL</td>\n",
       "      <td>VIN GAUGE - 102918 LSR RV</td>\n",
       "      <td>F150 / DINING / TT CRUISE</td>\n",
       "      <td>PRINT - DIRECT MAIL | VIN GAUGE - 102918 LSR R...</td>\n",
       "      <td>YES</td>\n",
       "      <td>ZACHARY HESS</td>\n",
       "      <td>LSR</td>\n",
       "      <td>daytour</td>\n",
       "      <td>2</td>\n",
       "      <td>True</td>\n",
       "      <td>2018-11-08</td>\n",
       "      <td>2018-11-08</td>\n",
       "      <td>2018-11-10</td>\n",
       "      <td>2</td>\n",
       "      <td>2.0</td>\n",
       "      <td>False</td>\n",
       "      <td>Saturday</td>\n",
       "    </tr>\n",
       "    <tr>\n",
       "      <th>1</th>\n",
       "      <td>10245156</td>\n",
       "      <td>0</td>\n",
       "      <td>VIC</td>\n",
       "      <td>FL-CAMPING WORLD-LAKE CITY</td>\n",
       "      <td>21 DAYS FREE CAMPING</td>\n",
       "      <td>VIC | FL-CAMPING WORLD-LAKE CITY | 21 DAYS FRE...</td>\n",
       "      <td>YES</td>\n",
       "      <td>PAUL EVERETT</td>\n",
       "      <td>LSR</td>\n",
       "      <td>daytour</td>\n",
       "      <td>2</td>\n",
       "      <td>True</td>\n",
       "      <td>2018-11-02</td>\n",
       "      <td>2018-10-22</td>\n",
       "      <td>2018-11-04</td>\n",
       "      <td>13</td>\n",
       "      <td>2.0</td>\n",
       "      <td>False</td>\n",
       "      <td>Sunday</td>\n",
       "    </tr>\n",
       "    <tr>\n",
       "      <th>2</th>\n",
       "      <td>10313001</td>\n",
       "      <td>0</td>\n",
       "      <td>BPO</td>\n",
       "      <td>BPO - FERRIS</td>\n",
       "      <td>NaN</td>\n",
       "      <td>BPO | BPO - Ferris | $1000 FREE CAMPING</td>\n",
       "      <td>NO</td>\n",
       "      <td>Jeremy Jone</td>\n",
       "      <td>TNC</td>\n",
       "      <td>daytour</td>\n",
       "      <td>3</td>\n",
       "      <td>False</td>\n",
       "      <td>NaN</td>\n",
       "      <td>2020-05-04</td>\n",
       "      <td>2020-05-04</td>\n",
       "      <td>0</td>\n",
       "      <td>NaN</td>\n",
       "      <td>False</td>\n",
       "      <td>Monday</td>\n",
       "    </tr>\n",
       "    <tr>\n",
       "      <th>3</th>\n",
       "      <td>10237336</td>\n",
       "      <td>0</td>\n",
       "      <td>WEB</td>\n",
       "      <td>LUNASANDSRESORT.COM</td>\n",
       "      <td>25K SWEEPS / $1000 FREE CAMPING / 5K SHOPPING ...</td>\n",
       "      <td>WEB | LUNASANDSRESORT.COM | 25K SWEEPS / $1000...</td>\n",
       "      <td>YES</td>\n",
       "      <td>KATLYN SCARBORO</td>\n",
       "      <td>LSR</td>\n",
       "      <td>campin</td>\n",
       "      <td>2</td>\n",
       "      <td>True</td>\n",
       "      <td>2018-10-07</td>\n",
       "      <td>2018-08-23</td>\n",
       "      <td>2018-10-10</td>\n",
       "      <td>48</td>\n",
       "      <td>3.0</td>\n",
       "      <td>False</td>\n",
       "      <td>Wednesday</td>\n",
       "    </tr>\n",
       "    <tr>\n",
       "      <th>4</th>\n",
       "      <td>10313018</td>\n",
       "      <td>0</td>\n",
       "      <td>WEB</td>\n",
       "      <td>MARKETING INFORMATICS</td>\n",
       "      <td>4 DAYS 3 NIGHTS FREE CAMPING</td>\n",
       "      <td>Web | Marketing Informatics | 4 Days 3 Nights ...</td>\n",
       "      <td>YES</td>\n",
       "      <td>MEGHAN THOMPSON</td>\n",
       "      <td>LSR</td>\n",
       "      <td>daytour</td>\n",
       "      <td>1</td>\n",
       "      <td>False</td>\n",
       "      <td>2020-05-04</td>\n",
       "      <td>2020-05-04</td>\n",
       "      <td>2020-05-07</td>\n",
       "      <td>3</td>\n",
       "      <td>3.0</td>\n",
       "      <td>False</td>\n",
       "      <td>Thursday</td>\n",
       "    </tr>\n",
       "  </tbody>\n",
       "</table>\n",
       "</div>"
      ],
      "text/plain": [
       "    ORDERID  OriginalOrderId              Program                 Participant  \\\n",
       "0  10249329                0  PRINT - DIRECT MAIL   VIN GAUGE - 102918 LSR RV   \n",
       "1  10245156                0                  VIC  FL-CAMPING WORLD-LAKE CITY   \n",
       "2  10313001                0                  BPO                BPO - FERRIS   \n",
       "3  10237336                0                  WEB         LUNASANDSRESORT.COM   \n",
       "4  10313018                0                  WEB       MARKETING INFORMATICS   \n",
       "\n",
       "                                           Promotion  \\\n",
       "0                          F150 / DINING / TT CRUISE   \n",
       "1                               21 DAYS FREE CAMPING   \n",
       "2                                                NaN   \n",
       "3  25K SWEEPS / $1000 FREE CAMPING / 5K SHOPPING ...   \n",
       "4                       4 DAYS 3 NIGHTS FREE CAMPING   \n",
       "\n",
       "                                            Campaign RVOwner        AgentName  \\\n",
       "0  PRINT - DIRECT MAIL | VIN GAUGE - 102918 LSR R...     YES     ZACHARY HESS   \n",
       "1  VIC | FL-CAMPING WORLD-LAKE CITY | 21 DAYS FRE...     YES     PAUL EVERETT   \n",
       "2            BPO | BPO - Ferris | $1000 FREE CAMPING      NO      Jeremy Jone   \n",
       "3  WEB | LUNASANDSRESORT.COM | 25K SWEEPS / $1000...     YES  KATLYN SCARBORO   \n",
       "4  Web | Marketing Informatics | 4 Days 3 Nights ...     YES  MEGHAN THOMPSON   \n",
       "\n",
       "  Resort TourType  Wave  isTour SecondConfirmDate BookingCreatedDate  \\\n",
       "0    LSR  daytour     2    True        2018-11-08         2018-11-08   \n",
       "1    LSR  daytour     2    True        2018-11-02         2018-10-22   \n",
       "2    TNC  daytour     3   False               NaN         2020-05-04   \n",
       "3    LSR   campin     2    True        2018-10-07         2018-08-23   \n",
       "4    LSR  daytour     1   False        2020-05-04         2020-05-04   \n",
       "\n",
       "  BookingScheduledDate  BookingAge  BookingConfirmationAge  \\\n",
       "0           2018-11-10           2                     2.0   \n",
       "1           2018-11-04          13                     2.0   \n",
       "2           2020-05-04           0                     NaN   \n",
       "3           2018-10-10          48                     3.0   \n",
       "4           2020-05-07           3                     3.0   \n",
       "\n",
       "   IsRescheduledBooking ScheduledDayOfWeek  \n",
       "0                 False           Saturday  \n",
       "1                 False             Sunday  \n",
       "2                 False             Monday  \n",
       "3                 False          Wednesday  \n",
       "4                 False           Thursday  "
      ]
     },
     "execution_count": 8,
     "metadata": {},
     "output_type": "execute_result"
    }
   ],
   "source": [
    "EDA_df.head()"
   ]
  },
  {
   "cell_type": "markdown",
   "metadata": {},
   "source": [
    "### Data Profiling and Understanding"
   ]
  },
  {
   "cell_type": "code",
   "execution_count": 8,
   "metadata": {},
   "outputs": [
    {
     "data": {
      "text/plain": [
       "Index(['ORDERID', 'OriginalOrderId', 'Program', 'Participant', 'Promotion',\n",
       "       'Campaign', 'RVOwner', 'AgentName', 'Resort', 'TourType', 'Wave',\n",
       "       'isTour', 'SecondConfirmDate', 'BookingCreatedDate',\n",
       "       'BookingScheduledDate', 'BookingAge', 'BookingConfirmationAge',\n",
       "       'IsRescheduledBooking', 'ScheduledDayOfWeek'],\n",
       "      dtype='object')"
      ]
     },
     "execution_count": 8,
     "metadata": {},
     "output_type": "execute_result"
    }
   ],
   "source": [
    "EDA_df.columns"
   ]
  },
  {
   "cell_type": "markdown",
   "metadata": {},
   "source": [
    "#### Profile of Catogorical Features"
   ]
  },
  {
   "cell_type": "code",
   "execution_count": 9,
   "metadata": {},
   "outputs": [],
   "source": [
    "### Waves "
   ]
  },
  {
   "cell_type": "code",
   "execution_count": 10,
   "metadata": {},
   "outputs": [
    {
     "data": {
      "text/plain": [
       "array([2, 3, 1, 4], dtype=int64)"
      ]
     },
     "execution_count": 10,
     "metadata": {},
     "output_type": "execute_result"
    }
   ],
   "source": [
    "EDA_df.Wave.unique()"
   ]
  },
  {
   "cell_type": "code",
   "execution_count": 11,
   "metadata": {},
   "outputs": [
    {
     "data": {
      "text/plain": [
       "2    36587\n",
       "1    30967\n",
       "3    21885\n",
       "4      148\n",
       "Name: Wave, dtype: int64"
      ]
     },
     "execution_count": 11,
     "metadata": {},
     "output_type": "execute_result"
    }
   ],
   "source": [
    "EDA_df.Wave.value_counts()"
   ]
  },
  {
   "cell_type": "code",
   "execution_count": 11,
   "metadata": {},
   "outputs": [
    {
     "data": {
      "image/png": "[encoded data removed]",
      "text/plain": [
       "<Figure size 360x360 with 1 Axes>"
      ]
     },
     "metadata": {},
     "output_type": "display_data"
    }
   ],
   "source": [
    "pyplot.figure(figsize=(5, 5))\n",
    "ax = sns.countplot(data=EDA_df,\n",
    "                   x='Wave',\n",
    "                   order = EDA_df['Wave'].value_counts().index, palette=\"Greens_d\")\n",
    "ax.set(xlabel='Wave', ylabel='Count')\n",
    "pyplot.show()"
   ]
  },
  {
   "cell_type": "raw",
   "metadata": {},
   "source": [
    "<!-- As we can see wave 4 is showing as outliers amoung other catogories so we should deal with it.According to our business domain knowleadge Wave 4 is an extended form of Wave 3 so we can transform wave 4 data points into wave 3 -->"
   ]
  },
  {
   "cell_type": "code",
   "execution_count": 13,
   "metadata": {},
   "outputs": [],
   "source": [
    "### RVOwner"
   ]
  },
  {
   "cell_type": "code",
   "execution_count": 12,
   "metadata": {},
   "outputs": [
    {
     "data": {
      "text/plain": [
       "array(['YES', 'NO', nan, 'UNK', 'RV', 'FAL', '4601', 'TRU', '9803', 'No',\n",
       "       'Yes', 'NO ', 'LOD', '2958', '7158', '7741', '8225', '8332',\n",
       "       '8294', '1050', '4387', '9151', '107', '1517', '8990', '1159',\n",
       "       '7596', '9630', '4523', '8119', '2155', '8913', '9798', '8153',\n",
       "       '9566', '7201', '2804', '9782', '3220', '9704'], dtype=object)"
      ]
     },
     "execution_count": 12,
     "metadata": {},
     "output_type": "execute_result"
    }
   ],
   "source": [
    "EDA_df.RVOwner.unique()"
   ]
  },
  {
   "cell_type": "raw",
   "metadata": {},
   "source": [
    "According to business domain knowleadge RVOwner Feature should be True/False values so we also need to apply transformations to junks."
   ]
  },
  {
   "cell_type": "code",
   "execution_count": 13,
   "metadata": {},
   "outputs": [],
   "source": [
    "### Tourtype"
   ]
  },
  {
   "cell_type": "code",
   "execution_count": 14,
   "metadata": {},
   "outputs": [
    {
     "data": {
      "text/plain": [
       "array(['daytour', 'campin'], dtype=object)"
      ]
     },
     "execution_count": 14,
     "metadata": {},
     "output_type": "execute_result"
    }
   ],
   "source": [
    "EDA_df.TourType.unique()"
   ]
  },
  {
   "cell_type": "code",
   "execution_count": 15,
   "metadata": {},
   "outputs": [
    {
     "data": {
      "text/plain": [
       "daytour    76173\n",
       "campin     13414\n",
       "Name: TourType, dtype: int64"
      ]
     },
     "execution_count": 15,
     "metadata": {},
     "output_type": "execute_result"
    }
   ],
   "source": [
    "EDA_df.TourType.value_counts()"
   ]
  },
  {
   "cell_type": "code",
   "execution_count": 16,
   "metadata": {},
   "outputs": [
    {
     "data": {
      "image/png": "[encoded data removed]",
      "text/plain": [
       "<Figure size 360x360 with 1 Axes>"
      ]
     },
     "metadata": {},
     "output_type": "display_data"
    }
   ],
   "source": [
    "pyplot.figure(figsize=(5, 5))\n",
    "ax = sns.countplot(data=EDA_df,\n",
    "                   x='TourType',\n",
    "                   order = EDA_df['TourType'].value_counts().index, palette=\"Greens_d\")\n",
    "ax.set(xlabel='TourType', ylabel='Count')\n",
    "pyplot.show()"
   ]
  },
  {
   "cell_type": "code",
   "execution_count": 19,
   "metadata": {},
   "outputs": [],
   "source": [
    "# Resort"
   ]
  },
  {
   "cell_type": "code",
   "execution_count": 20,
   "metadata": {},
   "outputs": [
    {
     "data": {
      "text/plain": [
       "array(['LSR', 'TNC', 'NSL', 'TRG', 'TRO', 'RFR', 'BLR'], dtype=object)"
      ]
     },
     "execution_count": 20,
     "metadata": {},
     "output_type": "execute_result"
    }
   ],
   "source": [
    "EDA_df.Resort.unique()"
   ]
  },
  {
   "cell_type": "code",
   "execution_count": 21,
   "metadata": {},
   "outputs": [
    {
     "data": {
      "text/plain": [
       "TNC    17466\n",
       "TRG    17172\n",
       "RFR    15843\n",
       "NSL    14556\n",
       "BLR    12512\n",
       "LSR     8004\n",
       "TRO     4034\n",
       "Name: Resort, dtype: int64"
      ]
     },
     "execution_count": 21,
     "metadata": {},
     "output_type": "execute_result"
    }
   ],
   "source": [
    "EDA_df.Resort.value_counts()"
   ]
  },
  {
   "cell_type": "code",
   "execution_count": 22,
   "metadata": {},
   "outputs": [
    {
     "data": {
      "image/png": "[encoded data removed]",
      "text/plain": [
       "<Figure size 360x360 with 1 Axes>"
      ]
     },
     "metadata": {},
     "output_type": "display_data"
    }
   ],
   "source": [
    "pyplot.figure(figsize=(5, 5))\n",
    "ax = sns.countplot(data=EDA_df,\n",
    "                   x='Resort',\n",
    "                   order = EDA_df['Resort'].value_counts().index, palette=\"Greens_d\")\n",
    "ax.set(xlabel='Resort', ylabel='Count')\n",
    "pyplot.show()"
   ]
  },
  {
   "cell_type": "code",
   "execution_count": 23,
   "metadata": {},
   "outputs": [],
   "source": [
    "## Scheduled Day Of Week"
   ]
  },
  {
   "cell_type": "code",
   "execution_count": 24,
   "metadata": {},
   "outputs": [
    {
     "data": {
      "text/plain": [
       "array(['Saturday', 'Sunday', 'Monday', 'Wednesday', 'Thursday', 'Tuesday',\n",
       "       'Friday'], dtype=object)"
      ]
     },
     "execution_count": 24,
     "metadata": {},
     "output_type": "execute_result"
    }
   ],
   "source": [
    "EDA_df.ScheduledDayOfWeek.unique()"
   ]
  },
  {
   "cell_type": "code",
   "execution_count": 25,
   "metadata": {},
   "outputs": [
    {
     "data": {
      "text/plain": [
       "Saturday     31523\n",
       "Sunday       24198\n",
       "Friday       14560\n",
       "Thursday     11160\n",
       "Monday        7411\n",
       "Wednesday      502\n",
       "Tuesday        233\n",
       "Name: ScheduledDayOfWeek, dtype: int64"
      ]
     },
     "execution_count": 25,
     "metadata": {},
     "output_type": "execute_result"
    }
   ],
   "source": [
    "EDA_df.ScheduledDayOfWeek.value_counts()"
   ]
  },
  {
   "cell_type": "code",
   "execution_count": 26,
   "metadata": {},
   "outputs": [
    {
     "data": {
      "image/png": "[encoded data removed]",
      "text/plain": [
       "<Figure size 720x360 with 1 Axes>"
      ]
     },
     "metadata": {},
     "output_type": "display_data"
    }
   ],
   "source": [
    "pyplot.figure(figsize=(10, 5))\n",
    "ax = sns.countplot(data=EDA_df,\n",
    "                   x='ScheduledDayOfWeek',\n",
    "                   order = EDA_df['ScheduledDayOfWeek'].value_counts().index, palette=\"Greens_d\")\n",
    "ax.set(xlabel='ScheduledDayOfWeek', ylabel='Count')\n",
    "pyplot.show()"
   ]
  },
  {
   "cell_type": "markdown",
   "metadata": {},
   "source": [
    "#### Profile of Numerical Features"
   ]
  },
  {
   "cell_type": "code",
   "execution_count": 27,
   "metadata": {},
   "outputs": [],
   "source": [
    "### Booking Age"
   ]
  },
  {
   "cell_type": "code",
   "execution_count": 28,
   "metadata": {},
   "outputs": [
    {
     "data": {
      "text/plain": [
       "count    89587.000000\n",
       "mean        11.876399\n",
       "std         16.098159\n",
       "min       -381.000000\n",
       "25%          4.000000\n",
       "50%          8.000000\n",
       "75%         12.000000\n",
       "max        371.000000\n",
       "Name: BookingAge, dtype: float64"
      ]
     },
     "execution_count": 28,
     "metadata": {},
     "output_type": "execute_result"
    }
   ],
   "source": [
    "EDA_df.BookingAge.describe()"
   ]
  },
  {
   "cell_type": "code",
   "execution_count": 29,
   "metadata": {},
   "outputs": [
    {
     "data": {
      "image/png": "[encoded data removed]",
      "text/plain": [
       "<Figure size 1080x360 with 1 Axes>"
      ]
     },
     "metadata": {},
     "output_type": "display_data"
    }
   ],
   "source": [
    "pyplot.figure(figsize=(15, 5))\n",
    "ax = sns.distplot(EDA_df['BookingAge'], fit=norm, kde=False)\n",
    "ax.set(xlabel='BookingAge', ylabel='Count')\n",
    "pyplot.show()"
   ]
  },
  {
   "cell_type": "raw",
   "metadata": {},
   "source": [
    "Need to handle outliers in Booking Age"
   ]
  },
  {
   "cell_type": "code",
   "execution_count": 30,
   "metadata": {},
   "outputs": [],
   "source": [
    "## Booking Confirmation Age"
   ]
  },
  {
   "cell_type": "code",
   "execution_count": 31,
   "metadata": {},
   "outputs": [
    {
     "data": {
      "text/plain": [
       "count    83639.000000\n",
       "mean         2.641363\n",
       "std          4.678860\n",
       "min       -364.000000\n",
       "25%          2.000000\n",
       "50%          3.000000\n",
       "75%          3.000000\n",
       "max        371.000000\n",
       "Name: BookingConfirmationAge, dtype: float64"
      ]
     },
     "execution_count": 31,
     "metadata": {},
     "output_type": "execute_result"
    }
   ],
   "source": [
    "EDA_df.BookingConfirmationAge.describe()"
   ]
  },
  {
   "cell_type": "code",
   "execution_count": 32,
   "metadata": {},
   "outputs": [
    {
     "data": {
      "image/png": "[encoded data removed]",
      "text/plain": [
       "<Figure size 1080x360 with 1 Axes>"
      ]
     },
     "metadata": {},
     "output_type": "display_data"
    }
   ],
   "source": [
    "pyplot.figure(figsize=(15, 5))\n",
    "ax = sns.distplot(EDA_df['BookingConfirmationAge'], fit=norm, kde=False)\n",
    "ax.set(xlabel='BookingConfirmationAge', ylabel='Count')\n",
    "pyplot.show()"
   ]
  },
  {
   "cell_type": "raw",
   "metadata": {},
   "source": [
    "Need to handle outliers in Booking Confirmation Age"
   ]
  },
  {
   "cell_type": "markdown",
   "metadata": {},
   "source": [
    "### Features Transformation"
   ]
  },
  {
   "cell_type": "code",
   "execution_count": 33,
   "metadata": {},
   "outputs": [],
   "source": [
    "### RVOwner Transformation"
   ]
  },
  {
   "cell_type": "code",
   "execution_count": 17,
   "metadata": {},
   "outputs": [],
   "source": [
    "EDA_df.RVOwner = EDA_df.RVOwner.fillna('')\n",
    "EDA_df.RVOwner = EDA_df.RVOwner.apply(lambda x: rv_data_sanitizar(x))"
   ]
  },
  {
   "cell_type": "code",
   "execution_count": 18,
   "metadata": {},
   "outputs": [
    {
     "data": {
      "text/plain": [
       "No     48713\n",
       "Yes    40874\n",
       "Name: RVOwner, dtype: int64"
      ]
     },
     "execution_count": 18,
     "metadata": {},
     "output_type": "execute_result"
    }
   ],
   "source": [
    "EDA_df.RVOwner.value_counts()"
   ]
  },
  {
   "cell_type": "markdown",
   "metadata": {},
   "source": [
    "#### Features Outlier Handling"
   ]
  },
  {
   "cell_type": "code",
   "execution_count": 36,
   "metadata": {},
   "outputs": [],
   "source": [
    "# Waves"
   ]
  },
  {
   "cell_type": "code",
   "execution_count": 19,
   "metadata": {},
   "outputs": [],
   "source": [
    "EDA_df.loc[EDA_df.Wave > 3, 'Wave'] = 3"
   ]
  },
  {
   "cell_type": "code",
   "execution_count": 20,
   "metadata": {},
   "outputs": [
    {
     "data": {
      "text/plain": [
       "2    36587\n",
       "1    30967\n",
       "3    22033\n",
       "Name: Wave, dtype: int64"
      ]
     },
     "execution_count": 20,
     "metadata": {},
     "output_type": "execute_result"
    }
   ],
   "source": [
    "EDA_df.Wave.value_counts()"
   ]
  },
  {
   "cell_type": "code",
   "execution_count": 21,
   "metadata": {},
   "outputs": [],
   "source": [
    "# BookingAge"
   ]
  },
  {
   "cell_type": "code",
   "execution_count": 22,
   "metadata": {},
   "outputs": [],
   "source": [
    "EDA_df.loc[(EDA_df.BookingAge > 12) | \n",
    "           (EDA_df.BookingAge < 0), 'BookingAge'] = EDA_df.BookingAge.mean()"
   ]
  },
  {
   "cell_type": "code",
   "execution_count": 23,
   "metadata": {},
   "outputs": [
    {
     "data": {
      "image/png": "[encoded data removed]",
      "text/plain": [
       "<Figure size 1080x360 with 1 Axes>"
      ]
     },
     "metadata": {},
     "output_type": "display_data"
    }
   ],
   "source": [
    "pyplot.figure(figsize=(15, 5))\n",
    "ax = sns.distplot(EDA_df['BookingAge'], fit=norm, kde=False)\n",
    "ax.set(xlabel='BookingAge', ylabel='Count')\n",
    "pyplot.show()"
   ]
  },
  {
   "cell_type": "code",
   "execution_count": 24,
   "metadata": {},
   "outputs": [],
   "source": [
    "### Booking Confirmation Age"
   ]
  },
  {
   "cell_type": "code",
   "execution_count": 25,
   "metadata": {},
   "outputs": [],
   "source": [
    "EDA_df.loc[(EDA_df.BookingConfirmationAge > 10) | \n",
    "           (EDA_df.BookingConfirmationAge < 0), 'BookingConfirmationAge'] = EDA_df.BookingConfirmationAge.mean()"
   ]
  },
  {
   "cell_type": "code",
   "execution_count": 26,
   "metadata": {},
   "outputs": [
    {
     "data": {
      "image/png": "[encoded data removed]",
      "text/plain": [
       "<Figure size 1080x360 with 1 Axes>"
      ]
     },
     "metadata": {},
     "output_type": "display_data"
    }
   ],
   "source": [
    "pyplot.figure(figsize=(15, 5))\n",
    "ax = sns.distplot(EDA_df['BookingConfirmationAge'], fit=norm, kde=False)\n",
    "ax.set(xlabel='BookingConfirmationAge', ylabel='Count')\n",
    "pyplot.show()"
   ]
  },
  {
   "cell_type": "markdown",
   "metadata": {},
   "source": [
    "#### Features Encoding"
   ]
  },
  {
   "cell_type": "code",
   "execution_count": 27,
   "metadata": {},
   "outputs": [],
   "source": [
    "le = LabelEncoder()\n",
    "ohe = OneHotEncoder(categories='auto', drop='first', sparse=False)"
   ]
  },
  {
   "cell_type": "code",
   "execution_count": 28,
   "metadata": {},
   "outputs": [],
   "source": [
    "### Encoding for Target"
   ]
  },
  {
   "cell_type": "code",
   "execution_count": 29,
   "metadata": {},
   "outputs": [],
   "source": [
    "EDA_df['Target'] = le.fit_transform(EDA_df.isTour)\n",
    "EDA_df = EDA_df.drop(['isTour'], axis=1)"
   ]
  },
  {
   "cell_type": "code",
   "execution_count": 30,
   "metadata": {},
   "outputs": [
    {
     "data": {
      "text/plain": [
       "0    51053\n",
       "1    38534\n",
       "Name: Target, dtype: int64"
      ]
     },
     "execution_count": 30,
     "metadata": {},
     "output_type": "execute_result"
    }
   ],
   "source": [
    "EDA_df.Target.value_counts()"
   ]
  },
  {
   "cell_type": "code",
   "execution_count": 31,
   "metadata": {},
   "outputs": [],
   "source": [
    "# Resort"
   ]
  },
  {
   "cell_type": "code",
   "execution_count": 32,
   "metadata": {},
   "outputs": [],
   "source": [
    "EDA_df['Encoded_Resort'] = le.fit_transform(EDA_df.Resort)\n",
    "Resorts_dummies = pd.get_dummies(EDA_df.Resort)\n",
    "EDA_df = pd.concat([EDA_df, Resorts_dummies], axis=1, sort=False)"
   ]
  },
  {
   "cell_type": "code",
   "execution_count": 33,
   "metadata": {},
   "outputs": [
    {
     "data": {
      "text/plain": [
       "TNC    17466\n",
       "TRG    17172\n",
       "RFR    15843\n",
       "NSL    14556\n",
       "BLR    12512\n",
       "LSR     8004\n",
       "TRO     4034\n",
       "Name: Resort, dtype: int64"
      ]
     },
     "execution_count": 33,
     "metadata": {},
     "output_type": "execute_result"
    }
   ],
   "source": [
    "EDA_df.Resort.value_counts()"
   ]
  },
  {
   "cell_type": "code",
   "execution_count": 34,
   "metadata": {},
   "outputs": [
    {
     "data": {
      "text/html": [
       "<div>\n",
       "<style scoped>\n",
       "    .dataframe tbody tr th:only-of-type {\n",
       "        vertical-align: middle;\n",
       "    }\n",
       "\n",
       "    .dataframe tbody tr th {\n",
       "        vertical-align: top;\n",
       "    }\n",
       "\n",
       "    .dataframe thead th {\n",
       "        text-align: right;\n",
       "    }\n",
       "</style>\n",
       "<table border=\"1\" class=\"dataframe\">\n",
       "  <thead>\n",
       "    <tr style=\"text-align: right;\">\n",
       "      <th></th>\n",
       "      <th>Resort</th>\n",
       "      <th>Encoded_Resort</th>\n",
       "      <th>BLR</th>\n",
       "      <th>LSR</th>\n",
       "      <th>NSL</th>\n",
       "      <th>RFR</th>\n",
       "      <th>TNC</th>\n",
       "      <th>TRG</th>\n",
       "      <th>TRO</th>\n",
       "    </tr>\n",
       "  </thead>\n",
       "  <tbody>\n",
       "    <tr>\n",
       "      <th>0</th>\n",
       "      <td>LSR</td>\n",
       "      <td>1</td>\n",
       "      <td>0</td>\n",
       "      <td>1</td>\n",
       "      <td>0</td>\n",
       "      <td>0</td>\n",
       "      <td>0</td>\n",
       "      <td>0</td>\n",
       "      <td>0</td>\n",
       "    </tr>\n",
       "    <tr>\n",
       "      <th>1</th>\n",
       "      <td>LSR</td>\n",
       "      <td>1</td>\n",
       "      <td>0</td>\n",
       "      <td>1</td>\n",
       "      <td>0</td>\n",
       "      <td>0</td>\n",
       "      <td>0</td>\n",
       "      <td>0</td>\n",
       "      <td>0</td>\n",
       "    </tr>\n",
       "    <tr>\n",
       "      <th>2</th>\n",
       "      <td>TNC</td>\n",
       "      <td>4</td>\n",
       "      <td>0</td>\n",
       "      <td>0</td>\n",
       "      <td>0</td>\n",
       "      <td>0</td>\n",
       "      <td>1</td>\n",
       "      <td>0</td>\n",
       "      <td>0</td>\n",
       "    </tr>\n",
       "    <tr>\n",
       "      <th>3</th>\n",
       "      <td>LSR</td>\n",
       "      <td>1</td>\n",
       "      <td>0</td>\n",
       "      <td>1</td>\n",
       "      <td>0</td>\n",
       "      <td>0</td>\n",
       "      <td>0</td>\n",
       "      <td>0</td>\n",
       "      <td>0</td>\n",
       "    </tr>\n",
       "    <tr>\n",
       "      <th>4</th>\n",
       "      <td>LSR</td>\n",
       "      <td>1</td>\n",
       "      <td>0</td>\n",
       "      <td>1</td>\n",
       "      <td>0</td>\n",
       "      <td>0</td>\n",
       "      <td>0</td>\n",
       "      <td>0</td>\n",
       "      <td>0</td>\n",
       "    </tr>\n",
       "    <tr>\n",
       "      <th>...</th>\n",
       "      <td>...</td>\n",
       "      <td>...</td>\n",
       "      <td>...</td>\n",
       "      <td>...</td>\n",
       "      <td>...</td>\n",
       "      <td>...</td>\n",
       "      <td>...</td>\n",
       "      <td>...</td>\n",
       "      <td>...</td>\n",
       "    </tr>\n",
       "    <tr>\n",
       "      <th>89582</th>\n",
       "      <td>LSR</td>\n",
       "      <td>1</td>\n",
       "      <td>0</td>\n",
       "      <td>1</td>\n",
       "      <td>0</td>\n",
       "      <td>0</td>\n",
       "      <td>0</td>\n",
       "      <td>0</td>\n",
       "      <td>0</td>\n",
       "    </tr>\n",
       "    <tr>\n",
       "      <th>89583</th>\n",
       "      <td>RFR</td>\n",
       "      <td>3</td>\n",
       "      <td>0</td>\n",
       "      <td>0</td>\n",
       "      <td>0</td>\n",
       "      <td>1</td>\n",
       "      <td>0</td>\n",
       "      <td>0</td>\n",
       "      <td>0</td>\n",
       "    </tr>\n",
       "    <tr>\n",
       "      <th>89584</th>\n",
       "      <td>TNC</td>\n",
       "      <td>4</td>\n",
       "      <td>0</td>\n",
       "      <td>0</td>\n",
       "      <td>0</td>\n",
       "      <td>0</td>\n",
       "      <td>1</td>\n",
       "      <td>0</td>\n",
       "      <td>0</td>\n",
       "    </tr>\n",
       "    <tr>\n",
       "      <th>89585</th>\n",
       "      <td>LSR</td>\n",
       "      <td>1</td>\n",
       "      <td>0</td>\n",
       "      <td>1</td>\n",
       "      <td>0</td>\n",
       "      <td>0</td>\n",
       "      <td>0</td>\n",
       "      <td>0</td>\n",
       "      <td>0</td>\n",
       "    </tr>\n",
       "    <tr>\n",
       "      <th>89586</th>\n",
       "      <td>TRG</td>\n",
       "      <td>5</td>\n",
       "      <td>0</td>\n",
       "      <td>0</td>\n",
       "      <td>0</td>\n",
       "      <td>0</td>\n",
       "      <td>0</td>\n",
       "      <td>1</td>\n",
       "      <td>0</td>\n",
       "    </tr>\n",
       "  </tbody>\n",
       "</table>\n",
       "<p>89587 rows × 9 columns</p>\n",
       "</div>"
      ],
      "text/plain": [
       "      Resort  Encoded_Resort  BLR  LSR  NSL  RFR  TNC  TRG  TRO\n",
       "0        LSR               1    0    1    0    0    0    0    0\n",
       "1        LSR               1    0    1    0    0    0    0    0\n",
       "2        TNC               4    0    0    0    0    1    0    0\n",
       "3        LSR               1    0    1    0    0    0    0    0\n",
       "4        LSR               1    0    1    0    0    0    0    0\n",
       "...      ...             ...  ...  ...  ...  ...  ...  ...  ...\n",
       "89582    LSR               1    0    1    0    0    0    0    0\n",
       "89583    RFR               3    0    0    0    1    0    0    0\n",
       "89584    TNC               4    0    0    0    0    1    0    0\n",
       "89585    LSR               1    0    1    0    0    0    0    0\n",
       "89586    TRG               5    0    0    0    0    0    1    0\n",
       "\n",
       "[89587 rows x 9 columns]"
      ]
     },
     "execution_count": 34,
     "metadata": {},
     "output_type": "execute_result"
    }
   ],
   "source": [
    "EDA_df.loc[:,['Resort','Encoded_Resort','BLR','LSR','NSL','RFR','TNC','TRG','TRO']]"
   ]
  },
  {
   "cell_type": "code",
   "execution_count": 35,
   "metadata": {},
   "outputs": [],
   "source": [
    "### RVOwner"
   ]
  },
  {
   "cell_type": "code",
   "execution_count": 36,
   "metadata": {},
   "outputs": [
    {
     "data": {
      "text/plain": [
       "array([1, 0])"
      ]
     },
     "execution_count": 36,
     "metadata": {},
     "output_type": "execute_result"
    }
   ],
   "source": [
    "EDA_df['is_RVOwner'] = le.fit_transform(EDA_df.RVOwner)\n",
    "EDA_df = EDA_df.drop(['RVOwner'], axis=1)\n",
    "EDA_df['is_RVOwner'].unique()"
   ]
  },
  {
   "cell_type": "code",
   "execution_count": 37,
   "metadata": {},
   "outputs": [
    {
     "data": {
      "text/html": [
       "<div>\n",
       "<style scoped>\n",
       "    .dataframe tbody tr th:only-of-type {\n",
       "        vertical-align: middle;\n",
       "    }\n",
       "\n",
       "    .dataframe tbody tr th {\n",
       "        vertical-align: top;\n",
       "    }\n",
       "\n",
       "    .dataframe thead th {\n",
       "        text-align: right;\n",
       "    }\n",
       "</style>\n",
       "<table border=\"1\" class=\"dataframe\">\n",
       "  <thead>\n",
       "    <tr style=\"text-align: right;\">\n",
       "      <th></th>\n",
       "      <th>TourType</th>\n",
       "      <th>Encoded_TourType</th>\n",
       "      <th>campin</th>\n",
       "      <th>daytour</th>\n",
       "    </tr>\n",
       "  </thead>\n",
       "  <tbody>\n",
       "    <tr>\n",
       "      <th>0</th>\n",
       "      <td>daytour</td>\n",
       "      <td>1</td>\n",
       "      <td>0</td>\n",
       "      <td>1</td>\n",
       "    </tr>\n",
       "    <tr>\n",
       "      <th>1</th>\n",
       "      <td>daytour</td>\n",
       "      <td>1</td>\n",
       "      <td>0</td>\n",
       "      <td>1</td>\n",
       "    </tr>\n",
       "    <tr>\n",
       "      <th>2</th>\n",
       "      <td>daytour</td>\n",
       "      <td>1</td>\n",
       "      <td>0</td>\n",
       "      <td>1</td>\n",
       "    </tr>\n",
       "    <tr>\n",
       "      <th>3</th>\n",
       "      <td>campin</td>\n",
       "      <td>0</td>\n",
       "      <td>1</td>\n",
       "      <td>0</td>\n",
       "    </tr>\n",
       "    <tr>\n",
       "      <th>4</th>\n",
       "      <td>daytour</td>\n",
       "      <td>1</td>\n",
       "      <td>0</td>\n",
       "      <td>1</td>\n",
       "    </tr>\n",
       "    <tr>\n",
       "      <th>...</th>\n",
       "      <td>...</td>\n",
       "      <td>...</td>\n",
       "      <td>...</td>\n",
       "      <td>...</td>\n",
       "    </tr>\n",
       "    <tr>\n",
       "      <th>89582</th>\n",
       "      <td>daytour</td>\n",
       "      <td>1</td>\n",
       "      <td>0</td>\n",
       "      <td>1</td>\n",
       "    </tr>\n",
       "    <tr>\n",
       "      <th>89583</th>\n",
       "      <td>daytour</td>\n",
       "      <td>1</td>\n",
       "      <td>0</td>\n",
       "      <td>1</td>\n",
       "    </tr>\n",
       "    <tr>\n",
       "      <th>89584</th>\n",
       "      <td>campin</td>\n",
       "      <td>0</td>\n",
       "      <td>1</td>\n",
       "      <td>0</td>\n",
       "    </tr>\n",
       "    <tr>\n",
       "      <th>89585</th>\n",
       "      <td>daytour</td>\n",
       "      <td>1</td>\n",
       "      <td>0</td>\n",
       "      <td>1</td>\n",
       "    </tr>\n",
       "    <tr>\n",
       "      <th>89586</th>\n",
       "      <td>daytour</td>\n",
       "      <td>1</td>\n",
       "      <td>0</td>\n",
       "      <td>1</td>\n",
       "    </tr>\n",
       "  </tbody>\n",
       "</table>\n",
       "<p>89587 rows × 4 columns</p>\n",
       "</div>"
      ],
      "text/plain": [
       "      TourType  Encoded_TourType  campin  daytour\n",
       "0      daytour                 1       0        1\n",
       "1      daytour                 1       0        1\n",
       "2      daytour                 1       0        1\n",
       "3       campin                 0       1        0\n",
       "4      daytour                 1       0        1\n",
       "...        ...               ...     ...      ...\n",
       "89582  daytour                 1       0        1\n",
       "89583  daytour                 1       0        1\n",
       "89584   campin                 0       1        0\n",
       "89585  daytour                 1       0        1\n",
       "89586  daytour                 1       0        1\n",
       "\n",
       "[89587 rows x 4 columns]"
      ]
     },
     "execution_count": 37,
     "metadata": {},
     "output_type": "execute_result"
    }
   ],
   "source": [
    "# bookings_df.TourType\n",
    "EDA_df['Encoded_TourType'] = le.fit_transform(EDA_df.TourType)\n",
    "tourtype = pd.get_dummies(EDA_df.TourType)\n",
    "EDA_df = pd.concat([EDA_df, tourtype], axis=1, sort=False)\n",
    "EDA_df.loc[:,['TourType','Encoded_TourType','campin', 'daytour']]"
   ]
  },
  {
   "cell_type": "code",
   "execution_count": 38,
   "metadata": {},
   "outputs": [
    {
     "data": {
      "text/html": [
       "<div>\n",
       "<style scoped>\n",
       "    .dataframe tbody tr th:only-of-type {\n",
       "        vertical-align: middle;\n",
       "    }\n",
       "\n",
       "    .dataframe tbody tr th {\n",
       "        vertical-align: top;\n",
       "    }\n",
       "\n",
       "    .dataframe thead th {\n",
       "        text-align: right;\n",
       "    }\n",
       "</style>\n",
       "<table border=\"1\" class=\"dataframe\">\n",
       "  <thead>\n",
       "    <tr style=\"text-align: right;\">\n",
       "      <th></th>\n",
       "      <th>ScheduledDayOfWeek</th>\n",
       "      <th>Encoded_ScheduledDayOfWeek</th>\n",
       "      <th>Friday</th>\n",
       "      <th>Monday</th>\n",
       "      <th>Saturday</th>\n",
       "      <th>Sunday</th>\n",
       "      <th>Thursday</th>\n",
       "      <th>Tuesday</th>\n",
       "      <th>Wednesday</th>\n",
       "    </tr>\n",
       "  </thead>\n",
       "  <tbody>\n",
       "    <tr>\n",
       "      <th>0</th>\n",
       "      <td>Saturday</td>\n",
       "      <td>2</td>\n",
       "      <td>0</td>\n",
       "      <td>0</td>\n",
       "      <td>1</td>\n",
       "      <td>0</td>\n",
       "      <td>0</td>\n",
       "      <td>0</td>\n",
       "      <td>0</td>\n",
       "    </tr>\n",
       "    <tr>\n",
       "      <th>1</th>\n",
       "      <td>Sunday</td>\n",
       "      <td>3</td>\n",
       "      <td>0</td>\n",
       "      <td>0</td>\n",
       "      <td>0</td>\n",
       "      <td>1</td>\n",
       "      <td>0</td>\n",
       "      <td>0</td>\n",
       "      <td>0</td>\n",
       "    </tr>\n",
       "    <tr>\n",
       "      <th>2</th>\n",
       "      <td>Monday</td>\n",
       "      <td>1</td>\n",
       "      <td>0</td>\n",
       "      <td>1</td>\n",
       "      <td>0</td>\n",
       "      <td>0</td>\n",
       "      <td>0</td>\n",
       "      <td>0</td>\n",
       "      <td>0</td>\n",
       "    </tr>\n",
       "    <tr>\n",
       "      <th>3</th>\n",
       "      <td>Wednesday</td>\n",
       "      <td>6</td>\n",
       "      <td>0</td>\n",
       "      <td>0</td>\n",
       "      <td>0</td>\n",
       "      <td>0</td>\n",
       "      <td>0</td>\n",
       "      <td>0</td>\n",
       "      <td>1</td>\n",
       "    </tr>\n",
       "    <tr>\n",
       "      <th>4</th>\n",
       "      <td>Thursday</td>\n",
       "      <td>4</td>\n",
       "      <td>0</td>\n",
       "      <td>0</td>\n",
       "      <td>0</td>\n",
       "      <td>0</td>\n",
       "      <td>1</td>\n",
       "      <td>0</td>\n",
       "      <td>0</td>\n",
       "    </tr>\n",
       "    <tr>\n",
       "      <th>...</th>\n",
       "      <td>...</td>\n",
       "      <td>...</td>\n",
       "      <td>...</td>\n",
       "      <td>...</td>\n",
       "      <td>...</td>\n",
       "      <td>...</td>\n",
       "      <td>...</td>\n",
       "      <td>...</td>\n",
       "      <td>...</td>\n",
       "    </tr>\n",
       "    <tr>\n",
       "      <th>89582</th>\n",
       "      <td>Thursday</td>\n",
       "      <td>4</td>\n",
       "      <td>0</td>\n",
       "      <td>0</td>\n",
       "      <td>0</td>\n",
       "      <td>0</td>\n",
       "      <td>1</td>\n",
       "      <td>0</td>\n",
       "      <td>0</td>\n",
       "    </tr>\n",
       "    <tr>\n",
       "      <th>89583</th>\n",
       "      <td>Monday</td>\n",
       "      <td>1</td>\n",
       "      <td>0</td>\n",
       "      <td>1</td>\n",
       "      <td>0</td>\n",
       "      <td>0</td>\n",
       "      <td>0</td>\n",
       "      <td>0</td>\n",
       "      <td>0</td>\n",
       "    </tr>\n",
       "    <tr>\n",
       "      <th>89584</th>\n",
       "      <td>Saturday</td>\n",
       "      <td>2</td>\n",
       "      <td>0</td>\n",
       "      <td>0</td>\n",
       "      <td>1</td>\n",
       "      <td>0</td>\n",
       "      <td>0</td>\n",
       "      <td>0</td>\n",
       "      <td>0</td>\n",
       "    </tr>\n",
       "    <tr>\n",
       "      <th>89585</th>\n",
       "      <td>Saturday</td>\n",
       "      <td>2</td>\n",
       "      <td>0</td>\n",
       "      <td>0</td>\n",
       "      <td>1</td>\n",
       "      <td>0</td>\n",
       "      <td>0</td>\n",
       "      <td>0</td>\n",
       "      <td>0</td>\n",
       "    </tr>\n",
       "    <tr>\n",
       "      <th>89586</th>\n",
       "      <td>Thursday</td>\n",
       "      <td>4</td>\n",
       "      <td>0</td>\n",
       "      <td>0</td>\n",
       "      <td>0</td>\n",
       "      <td>0</td>\n",
       "      <td>1</td>\n",
       "      <td>0</td>\n",
       "      <td>0</td>\n",
       "    </tr>\n",
       "  </tbody>\n",
       "</table>\n",
       "<p>89587 rows × 9 columns</p>\n",
       "</div>"
      ],
      "text/plain": [
       "      ScheduledDayOfWeek  Encoded_ScheduledDayOfWeek  Friday  Monday  \\\n",
       "0               Saturday                           2       0       0   \n",
       "1                 Sunday                           3       0       0   \n",
       "2                 Monday                           1       0       1   \n",
       "3              Wednesday                           6       0       0   \n",
       "4               Thursday                           4       0       0   \n",
       "...                  ...                         ...     ...     ...   \n",
       "89582           Thursday                           4       0       0   \n",
       "89583             Monday                           1       0       1   \n",
       "89584           Saturday                           2       0       0   \n",
       "89585           Saturday                           2       0       0   \n",
       "89586           Thursday                           4       0       0   \n",
       "\n",
       "       Saturday  Sunday  Thursday  Tuesday  Wednesday  \n",
       "0             1       0         0        0          0  \n",
       "1             0       1         0        0          0  \n",
       "2             0       0         0        0          0  \n",
       "3             0       0         0        0          1  \n",
       "4             0       0         1        0          0  \n",
       "...         ...     ...       ...      ...        ...  \n",
       "89582         0       0         1        0          0  \n",
       "89583         0       0         0        0          0  \n",
       "89584         1       0         0        0          0  \n",
       "89585         1       0         0        0          0  \n",
       "89586         0       0         1        0          0  \n",
       "\n",
       "[89587 rows x 9 columns]"
      ]
     },
     "execution_count": 38,
     "metadata": {},
     "output_type": "execute_result"
    }
   ],
   "source": [
    "EDA_df['Encoded_ScheduledDayOfWeek'] = le.fit_transform(EDA_df.ScheduledDayOfWeek)\n",
    "SchDayOfWeek = pd.get_dummies(EDA_df.ScheduledDayOfWeek)\n",
    "EDA_df = pd.concat([EDA_df, SchDayOfWeek], axis=1, sort=False)\n",
    "EDA_df.loc[:,['ScheduledDayOfWeek','Encoded_ScheduledDayOfWeek','Friday','Monday','Saturday',\n",
    "              'Sunday','Thursday','Tuesday','Wednesday']]"
   ]
  },
  {
   "cell_type": "code",
   "execution_count": 39,
   "metadata": {},
   "outputs": [
    {
     "data": {
      "text/plain": [
       "array([0, 1], dtype=int64)"
      ]
     },
     "execution_count": 39,
     "metadata": {},
     "output_type": "execute_result"
    }
   ],
   "source": [
    "EDA_df['Encoded_IsRescheduledBooking'] = le.fit_transform(EDA_df.IsRescheduledBooking)\n",
    "EDA_df = EDA_df.drop(['IsRescheduledBooking'], axis=1)\n",
    "EDA_df['Encoded_IsRescheduledBooking'].unique()"
   ]
  },
  {
   "cell_type": "code",
   "execution_count": 40,
   "metadata": {},
   "outputs": [],
   "source": [
    "EDA_df.Program = EDA_df.Program.fillna('')\n",
    "EDA_df.Participant = EDA_df.Participant.fillna('')\n",
    "EDA_df.Promotion = EDA_df.Promotion.fillna('')\n",
    "EDA_df.Campaign = EDA_df.Campaign.fillna('')"
   ]
  },
  {
   "cell_type": "code",
   "execution_count": 41,
   "metadata": {},
   "outputs": [
    {
     "data": {
      "text/html": [
       "<div>\n",
       "<style scoped>\n",
       "    .dataframe tbody tr th:only-of-type {\n",
       "        vertical-align: middle;\n",
       "    }\n",
       "\n",
       "    .dataframe tbody tr th {\n",
       "        vertical-align: top;\n",
       "    }\n",
       "\n",
       "    .dataframe thead th {\n",
       "        text-align: right;\n",
       "    }\n",
       "</style>\n",
       "<table border=\"1\" class=\"dataframe\">\n",
       "  <thead>\n",
       "    <tr style=\"text-align: right;\">\n",
       "      <th></th>\n",
       "      <th>Encoded_Campaign</th>\n",
       "      <th>Campaign</th>\n",
       "    </tr>\n",
       "  </thead>\n",
       "  <tbody>\n",
       "    <tr>\n",
       "      <th>0</th>\n",
       "      <td>3584</td>\n",
       "      <td>PRINT - DIRECT MAIL | VIN GAUGE - 102918 LSR R...</td>\n",
       "    </tr>\n",
       "    <tr>\n",
       "      <th>1</th>\n",
       "      <td>5739</td>\n",
       "      <td>VIC | FL-CAMPING WORLD-LAKE CITY | 21 DAYS FRE...</td>\n",
       "    </tr>\n",
       "    <tr>\n",
       "      <th>2</th>\n",
       "      <td>128</td>\n",
       "      <td>BPO | BPO - Ferris | $1000 FREE CAMPING</td>\n",
       "    </tr>\n",
       "    <tr>\n",
       "      <th>3</th>\n",
       "      <td>7501</td>\n",
       "      <td>WEB | LUNASANDSRESORT.COM | 25K SWEEPS / $1000...</td>\n",
       "    </tr>\n",
       "    <tr>\n",
       "      <th>4</th>\n",
       "      <td>7609</td>\n",
       "      <td>Web | Marketing Informatics | 4 Days 3 Nights ...</td>\n",
       "    </tr>\n",
       "    <tr>\n",
       "      <th>...</th>\n",
       "      <td>...</td>\n",
       "      <td>...</td>\n",
       "    </tr>\n",
       "    <tr>\n",
       "      <th>89582</th>\n",
       "      <td>31</td>\n",
       "      <td>Affiliate | Good Sam | 4 Days 3 Nights Camping</td>\n",
       "    </tr>\n",
       "    <tr>\n",
       "      <th>89583</th>\n",
       "      <td>40</td>\n",
       "      <td>Affiliate | Marketing Informatics | 4 Days 3 N...</td>\n",
       "    </tr>\n",
       "    <tr>\n",
       "      <th>89584</th>\n",
       "      <td>4981</td>\n",
       "      <td>RV SHOW | NC - Charlotte RV Show NCRVDA - N3 |...</td>\n",
       "    </tr>\n",
       "    <tr>\n",
       "      <th>89585</th>\n",
       "      <td>31</td>\n",
       "      <td>Affiliate | Good Sam | 4 Days 3 Nights Camping</td>\n",
       "    </tr>\n",
       "    <tr>\n",
       "      <th>89586</th>\n",
       "      <td>31</td>\n",
       "      <td>Affiliate | Good Sam | 4 Days 3 Nights Camping</td>\n",
       "    </tr>\n",
       "  </tbody>\n",
       "</table>\n",
       "<p>86587 rows × 2 columns</p>\n",
       "</div>"
      ],
      "text/plain": [
       "       Encoded_Campaign                                           Campaign\n",
       "0                  3584  PRINT - DIRECT MAIL | VIN GAUGE - 102918 LSR R...\n",
       "1                  5739  VIC | FL-CAMPING WORLD-LAKE CITY | 21 DAYS FRE...\n",
       "2                   128            BPO | BPO - Ferris | $1000 FREE CAMPING\n",
       "3                  7501  WEB | LUNASANDSRESORT.COM | 25K SWEEPS / $1000...\n",
       "4                  7609  Web | Marketing Informatics | 4 Days 3 Nights ...\n",
       "...                 ...                                                ...\n",
       "89582                31     Affiliate | Good Sam | 4 Days 3 Nights Camping\n",
       "89583                40  Affiliate | Marketing Informatics | 4 Days 3 N...\n",
       "89584              4981  RV SHOW | NC - Charlotte RV Show NCRVDA - N3 |...\n",
       "89585                31     Affiliate | Good Sam | 4 Days 3 Nights Camping\n",
       "89586                31     Affiliate | Good Sam | 4 Days 3 Nights Camping\n",
       "\n",
       "[86587 rows x 2 columns]"
      ]
     },
     "execution_count": 41,
     "metadata": {},
     "output_type": "execute_result"
    }
   ],
   "source": [
    "EDA_df['Encoded_Campaign'] = le.fit_transform(EDA_df.Campaign)\n",
    "EDA_df = EDA_df.loc[EDA_df.Campaign != '']\n",
    "EDA_df.loc[:,['Encoded_Campaign','Campaign']]"
   ]
  },
  {
   "cell_type": "markdown",
   "metadata": {},
   "source": [
    "## Features Engineering"
   ]
  },
  {
   "cell_type": "markdown",
   "metadata": {},
   "source": [
    "The process of selecting and creating features from raw data."
   ]
  },
  {
   "cell_type": "markdown",
   "metadata": {},
   "source": [
    "1. Feature Selection\n",
    "2. Feature Extraction"
   ]
  },
  {
   "cell_type": "markdown",
   "metadata": {},
   "source": [
    "##### 1. Feature Selection\n",
    "Choose efficient features and leave less informative & useless features."
   ]
  },
  {
   "cell_type": "markdown",
   "metadata": {},
   "source": [
    "##### 2. Feature Extraction \n",
    "This is a process to generating less number of new more informative features from existing features and This process is also known as Dimensionality Reduction."
   ]
  },
  {
   "cell_type": "code",
   "execution_count": 44,
   "metadata": {},
   "outputs": [],
   "source": [
    "EDA_df['B_S_week_of_the_year'] = EDA_df['BookingScheduledDate'].dt.week\n",
    "EDA_df['B_S_day_of_the_month'] = EDA_df['BookingScheduledDate'].dt.day"
   ]
  },
  {
   "cell_type": "code",
   "execution_count": 45,
   "metadata": {},
   "outputs": [
    {
     "data": {
      "text/plain": [
       "count    86587.000000\n",
       "mean        15.620001\n",
       "std          8.754189\n",
       "min          1.000000\n",
       "25%          8.000000\n",
       "50%         16.000000\n",
       "75%         23.000000\n",
       "max         31.000000\n",
       "Name: B_S_day_of_the_month, dtype: float64"
      ]
     },
     "execution_count": 45,
     "metadata": {},
     "output_type": "execute_result"
    }
   ],
   "source": [
    "EDA_df.B_S_day_of_the_month.describe()"
   ]
  },
  {
   "cell_type": "code",
   "execution_count": 46,
   "metadata": {},
   "outputs": [
    {
     "data": {
      "text/plain": [
       "count    86587.000000\n",
       "mean        26.329692\n",
       "std         13.259637\n",
       "min          1.000000\n",
       "25%         16.000000\n",
       "50%         27.000000\n",
       "75%         37.000000\n",
       "max         52.000000\n",
       "Name: B_S_week_of_the_year, dtype: float64"
      ]
     },
     "execution_count": 46,
     "metadata": {},
     "output_type": "execute_result"
    }
   ],
   "source": [
    "EDA_df.B_S_week_of_the_year.describe()"
   ]
  },
  {
   "cell_type": "code",
   "execution_count": 47,
   "metadata": {},
   "outputs": [
    {
     "data": {
      "text/plain": [
       "Index(['ORDERID', 'OriginalOrderId', 'Program', 'Participant', 'Promotion',\n",
       "       'Campaign', 'AgentName', 'Resort', 'TourType', 'Wave',\n",
       "       'SecondConfirmDate', 'BookingCreatedDate', 'BookingScheduledDate',\n",
       "       'BookingAge', 'BookingConfirmationAge', 'ScheduledDayOfWeek', 'Target',\n",
       "       'Encoded_Resort', 'BLR', 'LSR', 'NSL', 'RFR', 'TNC', 'TRG', 'TRO',\n",
       "       'is_RVOwner', 'Encoded_TourType', 'campin', 'daytour',\n",
       "       'Encoded_ScheduledDayOfWeek', 'Friday', 'Monday', 'Saturday', 'Sunday',\n",
       "       'Thursday', 'Tuesday', 'Wednesday', 'Encoded_IsRescheduledBooking',\n",
       "       'Encoded_Campaign', 'B_S_week_of_the_year', 'B_S_day_of_the_month'],\n",
       "      dtype='object')"
      ]
     },
     "execution_count": 47,
     "metadata": {},
     "output_type": "execute_result"
    }
   ],
   "source": [
    "EDA_df.columns"
   ]
  },
  {
   "cell_type": "code",
   "execution_count": 48,
   "metadata": {},
   "outputs": [
    {
     "data": {
      "text/plain": [
       "0       2018-11-08\n",
       "1       2018-10-22\n",
       "2       2020-05-04\n",
       "3       2018-08-23\n",
       "4       2020-05-04\n",
       "           ...    \n",
       "89582   2020-10-07\n",
       "89583   2020-09-25\n",
       "89584   2020-07-29\n",
       "89585   2020-09-22\n",
       "89586   2020-10-06\n",
       "Name: BookingCreatedDate, Length: 86587, dtype: datetime64[ns]"
      ]
     },
     "execution_count": 48,
     "metadata": {},
     "output_type": "execute_result"
    }
   ],
   "source": [
    "EDA_df.BookingCreatedDate"
   ]
  },
  {
   "cell_type": "code",
   "execution_count": 49,
   "metadata": {},
   "outputs": [],
   "source": [
    "EDA_df['B_C_day_of_the_week'] = EDA_df['BookingCreatedDate'].dt.day_name()"
   ]
  },
  {
   "cell_type": "markdown",
   "metadata": {},
   "source": [
    "###  Exploratory Data Analysis"
   ]
  },
  {
   "cell_type": "code",
   "execution_count": 50,
   "metadata": {},
   "outputs": [
    {
     "data": {
      "text/plain": [
       "0    48094\n",
       "1    38493\n",
       "Name: Target, dtype: int64"
      ]
     },
     "execution_count": 50,
     "metadata": {},
     "output_type": "execute_result"
    }
   ],
   "source": [
    "EDA_df.Target.value_counts()"
   ]
  },
  {
   "cell_type": "code",
   "execution_count": 51,
   "metadata": {},
   "outputs": [
    {
     "data": {
      "image/png": "[encoded data removed]",
      "text/plain": [
       "<Figure size 432x288 with 1 Axes>"
      ]
     },
     "metadata": {},
     "output_type": "display_data"
    }
   ],
   "source": [
    "class_dist_df = pd.DataFrame(EDA_df['Target'].value_counts()).reset_index(drop=True)# Reseting the index and get the counts for each class \n",
    "class_dist_df['class']= [\"Is No Tour\",\"Is Tour\"] # HD Means Heart diseases and WHD means NO diseases\n",
    "sns.barplot(y = 'Target', x = class_dist_df['class'], data=class_dist_df) # Plotting Class frequency vs Class\n",
    "pyplot.title('Class Frequency Vs Class Name')\n",
    "pyplot.show()"
   ]
  },
  {
   "cell_type": "markdown",
   "metadata": {},
   "source": [
    "![](http://) target variable is not imbalance so no need of under_sampling or over_sampling"
   ]
  },
  {
   "cell_type": "code",
   "execution_count": 52,
   "metadata": {},
   "outputs": [],
   "source": [
    "### RVOwner"
   ]
  },
  {
   "cell_type": "code",
   "execution_count": 53,
   "metadata": {},
   "outputs": [
    {
     "data": {
      "image/png": "[encoded data removed]",
      "text/plain": [
       "<Figure size 576x288 with 2 Axes>"
      ]
     },
     "metadata": {},
     "output_type": "display_data"
    }
   ],
   "source": [
    "cor_mat = EDA_df.loc[:,['is_RVOwner','Target']].corr()\n",
    "f, ax = pyplot.subplots(figsize=(8,4))\n",
    "sns.heatmap(cor_mat,linewidths=.5, annot=True, ax=ax);"
   ]
  },
  {
   "cell_type": "code",
   "execution_count": 54,
   "metadata": {},
   "outputs": [
    {
     "data": {
      "image/png": "[encoded data removed]",
      "text/plain": [
       "<Figure size 504x504 with 1 Axes>"
      ]
     },
     "metadata": {},
     "output_type": "display_data"
    }
   ],
   "source": [
    "pyplot.figure(figsize=(7, 7))\n",
    "ax = sns.countplot(data=EDA_df,\n",
    "                   x='is_RVOwner',\n",
    "                   order = EDA_df['is_RVOwner'].value_counts().index ,hue=\"Target\", palette=\"Purples_d\")\n",
    "ax.set(xlabel='is_RVOwner', ylabel='Count')\n",
    "pyplot.show()"
   ]
  },
  {
   "cell_type": "code",
   "execution_count": 71,
   "metadata": {},
   "outputs": [
    {
     "data": {
      "image/png": "[encoded data removed]",
      "text/plain": [
       "<Figure size 504x504 with 1 Axes>"
      ]
     },
     "metadata": {},
     "output_type": "display_data"
    }
   ],
   "source": [
    "pyplot.figure(figsize=(7, 7))\n",
    "ax = sns.countplot(data=EDA_df,\n",
    "                   x='is_RVOwner',\n",
    "                   order = EDA_df['is_RVOwner'].value_counts().index ,hue=\"TourType\", palette=\"Greens_d\")\n",
    "ax.set(xlabel='is_RVOwner', ylabel='Count')\n",
    "pyplot.show()"
   ]
  },
  {
   "cell_type": "code",
   "execution_count": 72,
   "metadata": {},
   "outputs": [],
   "source": [
    "### Resorts"
   ]
  },
  {
   "cell_type": "code",
   "execution_count": 73,
   "metadata": {},
   "outputs": [
    {
     "data": {
      "image/png": "[encoded data removed]",
      "text/plain": [
       "<Figure size 504x504 with 1 Axes>"
      ]
     },
     "metadata": {},
     "output_type": "display_data"
    }
   ],
   "source": [
    "pyplot.figure(figsize=(7, 7))\n",
    "ax = sns.countplot(data=EDA_df,\n",
    "                   x='Resort',\n",
    "                   order = EDA_df['Resort'].value_counts().index ,hue=\"Target\", palette=\"Blues_d\")\n",
    "ax.set(xlabel='Resort', ylabel='Count')\n",
    "pyplot.show()"
   ]
  },
  {
   "cell_type": "code",
   "execution_count": 74,
   "metadata": {},
   "outputs": [
    {
     "name": "stdout",
     "output_type": "stream",
     "text": [
      "Hits by Resorts\n",
      "TNC    16988\n",
      "TRG    16639\n",
      "RFR    15352\n",
      "NSL    13930\n",
      "BLR    12115\n",
      "LSR     7537\n",
      "TRO     4026\n",
      "Name: Resort, dtype: int64\n",
      "\n",
      "Tours by Resorts\n",
      "TRG    7816\n",
      "TNC    7521\n",
      "RFR    6466\n",
      "NSL    5733\n",
      "BLR    5059\n",
      "LSR    3592\n",
      "TRO    2306\n",
      "Name: Resort, dtype: int64\n",
      "\n",
      "No_Tours by Resorts\n",
      "TNC    9467\n",
      "RFR    8886\n",
      "TRG    8823\n",
      "NSL    8197\n",
      "BLR    7056\n",
      "LSR    3945\n",
      "TRO    1720\n",
      "Name: Resort, dtype: int64\n"
     ]
    }
   ],
   "source": [
    "print('Hits by Resorts')\n",
    "print(EDA_df.Resort.value_counts())\n",
    "print('')\n",
    "print('Tours by Resorts')\n",
    "print(EDA_df.loc[EDA_df.Target == 1].Resort.value_counts())\n",
    "print('')\n",
    "print('No_Tours by Resorts')\n",
    "print(EDA_df.loc[EDA_df.Target == 0].Resort.value_counts())"
   ]
  },
  {
   "cell_type": "code",
   "execution_count": 75,
   "metadata": {},
   "outputs": [
    {
     "data": {
      "image/png": "[encoded data removed]",
      "text/plain": [
       "<Figure size 576x288 with 2 Axes>"
      ]
     },
     "metadata": {},
     "output_type": "display_data"
    }
   ],
   "source": [
    "cor_mat = EDA_df.loc[:,['Encoded_Resort','Target']].corr()\n",
    "f, ax = pyplot.subplots(figsize=(8,4))\n",
    "sns.heatmap(cor_mat,linewidths=.5, annot=True, ax=ax);"
   ]
  },
  {
   "cell_type": "code",
   "execution_count": 76,
   "metadata": {},
   "outputs": [
    {
     "data": {
      "image/png": "[encoded data removed]",
      "text/plain": [
       "<Figure size 576x288 with 2 Axes>"
      ]
     },
     "metadata": {},
     "output_type": "display_data"
    }
   ],
   "source": [
    "cor_mat = EDA_df.loc[:,['TNC','TRG','RFR','NSL','BLR','LSR','TRO','Target']].corr()\n",
    "f, ax = pyplot.subplots(figsize=(8,4))\n",
    "sns.heatmap(cor_mat,linewidths=.5, annot=True, ax=ax);"
   ]
  },
  {
   "cell_type": "code",
   "execution_count": 77,
   "metadata": {},
   "outputs": [
    {
     "data": {
      "image/png": "[encoded data removed]",
      "text/plain": [
       "<Figure size 504x504 with 1 Axes>"
      ]
     },
     "metadata": {},
     "output_type": "display_data"
    }
   ],
   "source": [
    "pyplot.figure(figsize=(7, 7))\n",
    "ax = sns.countplot(data=EDA_df,\n",
    "                   x='Resort',\n",
    "                   order = EDA_df['Resort'].value_counts().index ,hue=\"is_RVOwner\", palette=\"Reds_d\")\n",
    "ax.set(xlabel='Resort', ylabel='Count')\n",
    "pyplot.show()"
   ]
  },
  {
   "cell_type": "code",
   "execution_count": 78,
   "metadata": {},
   "outputs": [],
   "source": [
    "### Exploring the weeks"
   ]
  },
  {
   "cell_type": "code",
   "execution_count": 79,
   "metadata": {},
   "outputs": [
    {
     "data": {
      "text/plain": [
       "Index(['ORDERID', 'OriginalOrderId', 'Program', 'Participant', 'Promotion',\n",
       "       'Campaign', 'AgentName', 'Resort', 'TourType', 'Wave',\n",
       "       'SecondConfirmDate', 'BookingCreatedDate', 'BookingScheduledDate',\n",
       "       'BookingAge', 'BookingConfirmationAge', 'ScheduledDayOfWeek', 'Target',\n",
       "       'Encoded_Resort', 'BLR', 'LSR', 'NSL', 'RFR', 'TNC', 'TRG', 'TRO',\n",
       "       'is_RVOwner', 'Encoded_TourType', 'campin', 'daytour',\n",
       "       'Encoded_ScheduledDayOfWeek', 'Friday', 'Monday', 'Saturday', 'Sunday',\n",
       "       'Thursday', 'Tuesday', 'Wednesday', 'Encoded_IsRescheduledBooking',\n",
       "       'Encoded_Campaign', 'B_S_week_of_the_year', 'B_S_day_of_the_month',\n",
       "       'B_C_day_of_the_week'],\n",
       "      dtype='object')"
      ]
     },
     "execution_count": 79,
     "metadata": {},
     "output_type": "execute_result"
    }
   ],
   "source": [
    "EDA_df.columns"
   ]
  },
  {
   "cell_type": "code",
   "execution_count": 80,
   "metadata": {},
   "outputs": [],
   "source": [
    "### Exploring Scheduled Week Of the Year"
   ]
  },
  {
   "cell_type": "code",
   "execution_count": 81,
   "metadata": {},
   "outputs": [
    {
     "data": {
      "image/png": "[encoded data removed]",
      "text/plain": [
       "<Figure size 1224x504 with 1 Axes>"
      ]
     },
     "metadata": {},
     "output_type": "display_data"
    }
   ],
   "source": [
    "pyplot.figure(figsize=(17, 7))\n",
    "ax = sns.countplot(data=EDA_df,\n",
    "                   x='B_S_week_of_the_year' , palette=\"Reds_d\")\n",
    "ax.set(xlabel='Resort', ylabel='Count')\n",
    "pyplot.show()"
   ]
  },
  {
   "cell_type": "code",
   "execution_count": 82,
   "metadata": {},
   "outputs": [
    {
     "data": {
      "image/png": "[encoded data removed]",
      "text/plain": [
       "<Figure size 1224x504 with 1 Axes>"
      ]
     },
     "metadata": {},
     "output_type": "display_data"
    }
   ],
   "source": [
    "pyplot.figure(figsize=(17, 7))\n",
    "ax = sns.countplot(data=EDA_df,\n",
    "                   x='B_S_week_of_the_year',\n",
    "                   order = EDA_df['B_S_week_of_the_year'].value_counts().index ,hue=\"Target\", palette=\"Reds_d\")\n",
    "ax.set(xlabel='Resort', ylabel='Count')\n",
    "pyplot.show()"
   ]
  },
  {
   "cell_type": "code",
   "execution_count": 83,
   "metadata": {},
   "outputs": [],
   "source": [
    "### Exploring Scheduled Day Of the Month"
   ]
  },
  {
   "cell_type": "code",
   "execution_count": 84,
   "metadata": {},
   "outputs": [
    {
     "data": {
      "image/png": "[encoded data removed]",
      "text/plain": [
       "<Figure size 1224x504 with 1 Axes>"
      ]
     },
     "metadata": {},
     "output_type": "display_data"
    }
   ],
   "source": [
    "pyplot.figure(figsize=(17, 7))\n",
    "ax = sns.countplot(data=EDA_df,\n",
    "                   x='B_S_day_of_the_month', palette=\"Reds_d\")\n",
    "ax.set(xlabel='Resort', ylabel='Count')\n",
    "pyplot.show()"
   ]
  },
  {
   "cell_type": "code",
   "execution_count": 85,
   "metadata": {},
   "outputs": [],
   "source": [
    "### Exploring Scheduled Day Of the Week"
   ]
  },
  {
   "cell_type": "code",
   "execution_count": 86,
   "metadata": {},
   "outputs": [
    {
     "data": {
      "text/plain": [
       "Saturday     30389\n",
       "Sunday       23370\n",
       "Friday       14131\n",
       "Thursday     10813\n",
       "Monday        7170\n",
       "Wednesday      497\n",
       "Tuesday        217\n",
       "Name: ScheduledDayOfWeek, dtype: int64"
      ]
     },
     "execution_count": 86,
     "metadata": {},
     "output_type": "execute_result"
    }
   ],
   "source": [
    "EDA_df.ScheduledDayOfWeek.value_counts()"
   ]
  },
  {
   "cell_type": "code",
   "execution_count": 87,
   "metadata": {},
   "outputs": [
    {
     "data": {
      "image/png": "[encoded data removed]",
      "text/plain": [
       "<Figure size 1224x504 with 1 Axes>"
      ]
     },
     "metadata": {},
     "output_type": "display_data"
    }
   ],
   "source": [
    "pyplot.figure(figsize=(17, 7))\n",
    "ax = sns.countplot(data=EDA_df,\n",
    "                   x='ScheduledDayOfWeek',\n",
    "                   order = EDA_df['ScheduledDayOfWeek'].value_counts().index , palette=\"Reds_d\")\n",
    "ax.set(xlabel='Scheduled Day Of Week', ylabel='Count')\n",
    "pyplot.show()"
   ]
  },
  {
   "cell_type": "code",
   "execution_count": 88,
   "metadata": {},
   "outputs": [
    {
     "data": {
      "image/png": "[encoded data removed]",
      "text/plain": [
       "<Figure size 1224x504 with 1 Axes>"
      ]
     },
     "metadata": {},
     "output_type": "display_data"
    }
   ],
   "source": [
    "pyplot.figure(figsize=(17, 7))\n",
    "ax = sns.countplot(data=EDA_df,\n",
    "                   x='ScheduledDayOfWeek',\n",
    "                   order = EDA_df['ScheduledDayOfWeek'].value_counts().index ,hue=\"Target\", palette=\"Reds_d\")\n",
    "ax.set(xlabel='Scheduled Day Of Week', ylabel='Count')\n",
    "pyplot.show()"
   ]
  },
  {
   "cell_type": "code",
   "execution_count": 89,
   "metadata": {},
   "outputs": [],
   "source": [
    "### Exploring Tours"
   ]
  },
  {
   "cell_type": "code",
   "execution_count": 90,
   "metadata": {},
   "outputs": [
    {
     "data": {
      "image/png": "[encoded data removed]",
      "text/plain": [
       "<Figure size 504x504 with 1 Axes>"
      ]
     },
     "metadata": {},
     "output_type": "display_data"
    }
   ],
   "source": [
    "pyplot.figure(figsize=(7, 7))\n",
    "ax = sns.countplot(data=EDA_df,\n",
    "                   x='TourType',\n",
    "                   order = EDA_df['TourType'].value_counts().index ,hue=\"ScheduledDayOfWeek\", palette=\"Blues_d\")\n",
    "ax.set(xlabel='Resort', ylabel='Count')\n",
    "pyplot.show()"
   ]
  },
  {
   "cell_type": "code",
   "execution_count": 91,
   "metadata": {},
   "outputs": [],
   "source": [
    "### Exploring Booking Created"
   ]
  },
  {
   "cell_type": "code",
   "execution_count": 92,
   "metadata": {},
   "outputs": [
    {
     "data": {
      "image/png": "[encoded data removed]",
      "text/plain": [
       "<Figure size 504x504 with 1 Axes>"
      ]
     },
     "metadata": {},
     "output_type": "display_data"
    }
   ],
   "source": [
    "pyplot.figure(figsize=(7, 7))\n",
    "ax = sns.countplot(data=EDA_df,\n",
    "                   x='B_C_day_of_the_week',\n",
    "                   order = EDA_df['B_C_day_of_the_week'].value_counts().index ,hue=\"TourType\", palette=\"Blues_d\")\n",
    "ax.set(xlabel='Booking Created day of the week', ylabel='Count')\n",
    "pyplot.show()"
   ]
  },
  {
   "cell_type": "code",
   "execution_count": 94,
   "metadata": {},
   "outputs": [],
   "source": [
    "# pyplot.figure(figsize=(7, 7))\n",
    "# ax = sns.countplot(data=EDA_df,\n",
    "#                    x='B_C_day_of_the_week',\n",
    "#                    order = EDA_df['B_C_day_of_the_week'].value_counts().index, hue='' , palette=\"Blues_d\")\n",
    "# ax.set(xlabel='Booking Created day of the week', ylabel='Count')\n",
    "# pyplot.show()"
   ]
  },
  {
   "cell_type": "code",
   "execution_count": null,
   "metadata": {},
   "outputs": [],
   "source": []
  },
  {
   "cell_type": "code",
   "execution_count": null,
   "metadata": {},
   "outputs": [],
   "source": []
  },
  {
   "cell_type": "code",
   "execution_count": null,
   "metadata": {},
   "outputs": [],
   "source": []
  },
  {
   "cell_type": "code",
   "execution_count": null,
   "metadata": {},
   "outputs": [],
   "source": [
    "EDA_df.Encoded_Campaign"
   ]
  },
  {
   "cell_type": "code",
   "execution_count": null,
   "metadata": {},
   "outputs": [],
   "source": [
    "cor_mat = EDA_df.loc[:,['Encoded_Campaign','Target']].corr()\n",
    "f, ax = pyplot.subplots(figsize=(8,4))\n",
    "sns.heatmap(cor_mat,linewidths=.5, annot=True, ax=ax);"
   ]
  },
  {
   "cell_type": "code",
   "execution_count": 193,
   "metadata": {},
   "outputs": [
    {
     "data": {
      "text/plain": [
       "array(['Thursday', 'Monday', 'Tuesday', 'Wednesday', 'Sunday', 'Saturday',\n",
       "       'Friday'], dtype=object)"
      ]
     },
     "execution_count": 193,
     "metadata": {},
     "output_type": "execute_result"
    }
   ],
   "source": [
    "EDA_df.B_C_day_of_the_week.unique()"
   ]
  },
  {
   "cell_type": "code",
   "execution_count": 196,
   "metadata": {},
   "outputs": [
    {
     "data": {
      "text/plain": [
       "Index(['ORDERID', 'OriginalOrderId', 'Program', 'Participant', 'Promotion',\n",
       "       'Campaign', 'AgentName', 'Resort', 'TourType', 'Wave',\n",
       "       'SecondConfirmDate', 'BookingCreatedDate', 'BookingScheduledDate',\n",
       "       'BookingAge', 'BookingConfirmationAge', 'ScheduledDayOfWeek',\n",
       "       'B_S_week_of_the_year', 'B_S_day_of_the_month', 'Target',\n",
       "       'Encoded_Resort', 'BLR', 'LSR', 'NSL', 'RFR', 'TNC', 'TRG', 'TRO',\n",
       "       'is_RVOwner', 'Encoded_TourType', 'campin', 'daytour',\n",
       "       'Encoded_ScheduledDayOfWeek', 'Friday', 'Monday', 'Saturday', 'Sunday',\n",
       "       'Thursday', 'Tuesday', 'Wednesday', 'Encoded_IsRescheduledBooking',\n",
       "       'Encoded_Campaign', 'B_C_day_of_the_week'],\n",
       "      dtype='object')"
      ]
     },
     "execution_count": 196,
     "metadata": {},
     "output_type": "execute_result"
    }
   ],
   "source": [
    "EDA_df.columns"
   ]
  },
  {
   "cell_type": "code",
   "execution_count": 195,
   "metadata": {},
   "outputs": [
    {
     "name": "stdout",
     "output_type": "stream",
     "text": [
      "       Monday  Tuesday  Wednesday  Thursday  Friday  Sunday  Saturday  Target\n",
      "83242       0        0          0         0       0       1         0       0\n",
      "55362       0        0          0         1       0       0         0       1\n",
      "26791       0        0          0         0       0       1         0       0\n",
      "76008       1        0          0         0       0       0         0       0\n",
      "57575       0        0          0         0       1       0         0       0\n",
      "79431       0        0          0         0       0       0         1       0\n",
      "6251        0        0          0         1       0       0         0       0\n",
      "36385       0        0          0         0       0       1         0       0\n",
      "6698        0        0          0         0       0       0         1       1\n",
      "81633       0        0          0         0       1       0         0       1\n"
     ]
    },
    {
     "data": {
      "text/plain": [
       "<matplotlib.axes._subplots.AxesSubplot at 0x23c5279a7c0>"
      ]
     },
     "execution_count": 195,
     "metadata": {},
     "output_type": "execute_result"
    },
    {
     "data": {
      "image/png": "[encoded data removed]",
      "text/plain": [
       "<Figure size 1152x576 with 2 Axes>"
      ]
     },
     "metadata": {},
     "output_type": "display_data"
    }
   ],
   "source": [
    "co_x =EDA_df.loc[:,[ 'Monday', 'Tuesday', 'Wednesday', 'Thursday', 'Friday', 'Sunday', 'Saturday', 'Target']].sample(10)\n",
    "print(co_x)\n",
    "cor_mat = co_x.corr()\n",
    "f, ax = pyplot.subplots(figsize=(16,8))\n",
    "sns.heatmap(cor_mat,linewidths=.5, annot=True, ax=ax)"
   ]
  },
  {
   "cell_type": "code",
   "execution_count": null,
   "metadata": {},
   "outputs": [],
   "source": []
  },
  {
   "cell_type": "markdown",
   "metadata": {},
   "source": [
    "## Explorations for Tours & No_Tour in Comparision"
   ]
  },
  {
   "cell_type": "code",
   "execution_count": 197,
   "metadata": {},
   "outputs": [
    {
     "data": {
      "text/plain": [
       "Index(['ORDERID', 'OriginalOrderId', 'Program', 'Participant', 'Promotion',\n",
       "       'Campaign', 'AgentName', 'Resort', 'TourType', 'Wave',\n",
       "       'SecondConfirmDate', 'BookingCreatedDate', 'BookingScheduledDate',\n",
       "       'BookingAge', 'BookingConfirmationAge', 'ScheduledDayOfWeek',\n",
       "       'B_S_week_of_the_year', 'B_S_day_of_the_month', 'Target',\n",
       "       'Encoded_Resort', 'BLR', 'LSR', 'NSL', 'RFR', 'TNC', 'TRG', 'TRO',\n",
       "       'is_RVOwner', 'Encoded_TourType', 'campin', 'daytour',\n",
       "       'Encoded_ScheduledDayOfWeek', 'Friday', 'Monday', 'Saturday', 'Sunday',\n",
       "       'Thursday', 'Tuesday', 'Wednesday', 'Encoded_IsRescheduledBooking',\n",
       "       'Encoded_Campaign', 'B_C_day_of_the_week'],\n",
       "      dtype='object')"
      ]
     },
     "execution_count": 197,
     "metadata": {},
     "output_type": "execute_result"
    }
   ],
   "source": [
    "EDA_df.columns"
   ]
  },
  {
   "cell_type": "code",
   "execution_count": 1,
   "metadata": {},
   "outputs": [
    {
     "ename": "NameError",
     "evalue": "name 'EDA_df' is not defined",
     "output_type": "error",
     "traceback": [
      "\u001b[1;31m---------------------------------------------------------------------------\u001b[0m",
      "\u001b[1;31mNameError\u001b[0m                                 Traceback (most recent call last)",
      "\u001b[1;32m<ipython-input-1-bbbe041e85b9>\u001b[0m in \u001b[0;36m<module>\u001b[1;34m\u001b[0m\n\u001b[1;32m----> 1\u001b[1;33m \u001b[0mLowRankAgents\u001b[0m\u001b[1;33m=\u001b[0m \u001b[0mEDA_df\u001b[0m\u001b[1;33m\u001b[0m\u001b[1;33m\u001b[0m\u001b[0m\n\u001b[0m\u001b[0;32m      2\u001b[0m \u001b[0mpyplot\u001b[0m\u001b[1;33m.\u001b[0m\u001b[0mfigure\u001b[0m\u001b[1;33m(\u001b[0m\u001b[0mfigsize\u001b[0m\u001b[1;33m=\u001b[0m\u001b[1;33m(\u001b[0m\u001b[1;36m20\u001b[0m\u001b[1;33m,\u001b[0m \u001b[1;36m70\u001b[0m\u001b[1;33m)\u001b[0m\u001b[1;33m)\u001b[0m\u001b[1;33m\u001b[0m\u001b[1;33m\u001b[0m\u001b[0m\n\u001b[0;32m      3\u001b[0m ax = sns.countplot(data=EDA_df,\n\u001b[0;32m      4\u001b[0m                    \u001b[0my\u001b[0m\u001b[1;33m=\u001b[0m\u001b[1;34m'AgentName'\u001b[0m\u001b[1;33m,\u001b[0m\u001b[1;33m\u001b[0m\u001b[1;33m\u001b[0m\u001b[0m\n\u001b[0;32m      5\u001b[0m                    order = EDA_df['AgentName'].value_counts().index[0:30], hue=\"isTour\", palette=\"Greens_d\")\n",
      "\u001b[1;31mNameError\u001b[0m: name 'EDA_df' is not defined"
     ]
    }
   ],
   "source": [
    "LowRankAgents= EDA_df\n",
    "pyplot.figure(figsize=(20, 70))\n",
    "ax = sns.countplot(data=EDA_df,\n",
    "                   y='AgentName',\n",
    "                   order = EDA_df['AgentName'].value_counts().index[0:30], hue=\"isTour\", palette=\"Greens_d\")\n",
    "ax.set(xlabel='Count', ylabel='AgentName')\n",
    "pyplot.show()"
   ]
  },
  {
   "cell_type": "code",
   "execution_count": null,
   "metadata": {},
   "outputs": [],
   "source": []
  },
  {
   "cell_type": "code",
   "execution_count": 198,
   "metadata": {},
   "outputs": [],
   "source": [
    "tours_df = EDA_df.loc[EDA_df.Target == 1]\n",
    "no_tours_df = EDA_df.loc[EDA_df.Target == 0]"
   ]
  },
  {
   "cell_type": "code",
   "execution_count": 199,
   "metadata": {},
   "outputs": [
    {
     "name": "stdout",
     "output_type": "stream",
     "text": [
      "38493\n",
      "48094\n"
     ]
    }
   ],
   "source": [
    "print(len(tours_df))\n",
    "print(len(no_tours_df))"
   ]
  },
  {
   "cell_type": "code",
   "execution_count": 200,
   "metadata": {},
   "outputs": [
    {
     "data": {
      "text/plain": [
       "VIC | All TRA Resorts | 21 Days Free Camping                                                       1000\n",
       "Affiliate | Slicebread | 4 Days 3 Nights Free Camping                                               670\n",
       "Affiliate | Seychelle | $1000 free camping + $50 Gift card                                          591\n",
       "Affiliate | Marketing Informatics | 4 Days 3 Nights Free Camping                                    499\n",
       "BPO | BPO - Ferris | $1000 FREE CAMPING                                                             322\n",
       "                                                                                                   ... \n",
       "Regi Dealer | PA-LERCH RV | $1000 Free Camping                                                        1\n",
       "MALL | NY-Arnot Game Stop - 3126 | 4 Days 3 Nights Camping                                            1\n",
       "LIST-CW | #N/A | 4 Days 3 Nights Free Camping                                                         1\n",
       "REGI-SHOW | NC-CHARLOTTE RV SHOW-ENTRANCE | 25K SWEEPS / $1000 FREE CAMPING / 5K SHOPPING SPREE       1\n",
       "VIC | NC-Camping World - Byron - 3052 | 21 Days Free Camping                                          1\n",
       "Name: Campaign, Length: 6130, dtype: int64"
      ]
     },
     "execution_count": 200,
     "metadata": {},
     "output_type": "execute_result"
    }
   ],
   "source": [
    "tours_df.Campaign.value_counts()"
   ]
  },
  {
   "cell_type": "code",
   "execution_count": null,
   "metadata": {},
   "outputs": [],
   "source": [
    "tours_df"
   ]
  },
  {
   "cell_type": "code",
   "execution_count": 201,
   "metadata": {},
   "outputs": [
    {
     "data": {
      "text/plain": [
       "array([5704])"
      ]
     },
     "execution_count": 201,
     "metadata": {},
     "output_type": "execute_result"
    }
   ],
   "source": [
    "tours_df.loc[tours_df.Campaign == 'VIC | All TRA Resorts | 21 Days Free Camping'].Encoded_Campaign.unique()"
   ]
  },
  {
   "cell_type": "code",
   "execution_count": null,
   "metadata": {},
   "outputs": [],
   "source": [
    "no_tours_df.Campaign.value_counts()"
   ]
  },
  {
   "cell_type": "code",
   "execution_count": null,
   "metadata": {},
   "outputs": [],
   "source": [
    "no_tours_df.loc[no_tours_df.Campaign == 'Affiliate | Slicebread | 4 Days 3 Nights Free Camping'].Encoded_Campaign.unique()"
   ]
  },
  {
   "cell_type": "code",
   "execution_count": null,
   "metadata": {},
   "outputs": [],
   "source": [
    "pyplot.figure(figsize=(10, 30))\n",
    "ax = sns.countplot(data=tours_df,\n",
    "                   y='Campaign',\n",
    "                   order = tours_df['Campaign'].value_counts().index, palette=\"Greens_d\")\n",
    "ax.set(xlabel='Count', ylabel='Campaign')\n",
    "pyplot.show()"
   ]
  },
  {
   "cell_type": "code",
   "execution_count": null,
   "metadata": {},
   "outputs": [],
   "source": [
    "pyplot.figure(figsize=(10, 30))\n",
    "ax = sns.countplot(data=tours_df.loc[tours_df.is_RVOwner == 1],\n",
    "                   y='Program',\n",
    "                   order = tours_df['Program'].value_counts().index, palette=\"Greens_d\")\n",
    "ax.set(xlabel='Count', ylabel='Program')\n",
    "pyplot.show()"
   ]
  },
  {
   "cell_type": "code",
   "execution_count": null,
   "metadata": {},
   "outputs": [],
   "source": [
    "pyplot.figure(figsize=(10, 50))\n",
    "ax = sns.countplot(data=tours_df.loc[tours_df.is_RVOwner == 0],\n",
    "                   y='Program',\n",
    "                   order = tours_df['Program'].value_counts().index, palette=\"Greens_d\", hue=\"Resort\")\n",
    "ax.set(xlabel='Count', ylabel='Program')\n",
    "pyplot.show()"
   ]
  },
  {
   "cell_type": "code",
   "execution_count": null,
   "metadata": {},
   "outputs": [],
   "source": [
    "pyplot.figure(figsize=(10, 30))\n",
    "ax = sns.countplot(data=no_tours_df.loc[no_tours_df.is_RVOwner == 1],\n",
    "                   y='Program',\n",
    "                   order = no_tours_df['Program'].value_counts().index, palette=\"Greens_d\")\n",
    "ax.set(xlabel='Count', ylabel='Program')\n",
    "pyplot.show()"
   ]
  },
  {
   "cell_type": "code",
   "execution_count": null,
   "metadata": {},
   "outputs": [],
   "source": [
    "pyplot.figure(figsize=(10, 50))\n",
    "ax = sns.countplot(data=tours_df.loc[tours_df.is_RVOwner == 1],\n",
    "                   y='Promotion',\n",
    "                   order = tours_df['Promotion'].value_counts().index, palette=\"Greens_d\" )\n",
    "ax.set(xlabel='Count', ylabel='Promotion')\n",
    "pyplot.show()"
   ]
  },
  {
   "cell_type": "code",
   "execution_count": null,
   "metadata": {},
   "outputs": [],
   "source": [
    "pyplot.figure(figsize=(10, 80))\n",
    "ax = sns.countplot(data=tours_df.loc[tours_df.is_RVOwner == 1],\n",
    "                   y='Promotion',\n",
    "                   order = tours_df['Promotion'].value_counts().index, palette=\"Greens_d\" ,hue='Resort')\n",
    "ax.set(xlabel='Count', ylabel='Promotion')\n",
    "pyplot.show()"
   ]
  },
  {
   "cell_type": "code",
   "execution_count": null,
   "metadata": {},
   "outputs": [],
   "source": [
    "pyplot.figure(figsize=(10, 50))\n",
    "ax = sns.countplot(data=no_tours_df,\n",
    "                   y='Promotion',\n",
    "                   order = no_tours_df['Promotion'].value_counts().index, palette=\"Greens_d\" )\n",
    "ax.set(xlabel='Count', ylabel='Promotion')\n",
    "pyplot.show()"
   ]
  },
  {
   "cell_type": "code",
   "execution_count": null,
   "metadata": {},
   "outputs": [],
   "source": [
    "pyplot.figure(figsize=(10, 120))\n",
    "ax = sns.countplot(data=no_tours_df.loc[no_tours_df.is_RVOwner == 0],\n",
    "                   y='Promotion',\n",
    "                   order = no_tours_df['Promotion'].value_counts().index, palette=\"Greens_d\" ,hue='Resort')\n",
    "ax.set(xlabel='Count', ylabel='Promotion')\n",
    "pyplot.show()"
   ]
  },
  {
   "cell_type": "code",
   "execution_count": null,
   "metadata": {},
   "outputs": [],
   "source": [
    "## Tour VS No_Tour"
   ]
  },
  {
   "cell_type": "code",
   "execution_count": null,
   "metadata": {},
   "outputs": [],
   "source": [
    "## Tours by Resorts\n",
    "pyplot.figure(figsize=(10, 6))\n",
    "ax = sns.countplot(data=tours_df,\n",
    "                   x='Resort',\n",
    "                   order = tours_df['Resort'].value_counts().index, palette=\"Greens_d\")\n",
    "ax.set(xlabel='Resort', ylabel='Count')\n",
    "pyplot.show()"
   ]
  },
  {
   "cell_type": "code",
   "execution_count": null,
   "metadata": {},
   "outputs": [],
   "source": [
    "## No Tours by Resorts\n",
    "pyplot.figure(figsize=(10, 6))\n",
    "ax = sns.countplot(data=no_tours_df,\n",
    "                   x='Resort',\n",
    "                   order = no_tours_df['Resort'].value_counts().index, palette=\"Greens_d\")\n",
    "ax.set(xlabel='Resort', ylabel='Count')\n",
    "pyplot.show()"
   ]
  },
  {
   "cell_type": "code",
   "execution_count": null,
   "metadata": {},
   "outputs": [],
   "source": [
    "### Wave"
   ]
  },
  {
   "cell_type": "code",
   "execution_count": null,
   "metadata": {},
   "outputs": [],
   "source": [
    "## Tours by Wave\n",
    "pyplot.figure(figsize=(10, 6))\n",
    "ax = sns.countplot(data=tours_df,\n",
    "                   x='Wave',\n",
    "                   order = tours_df['Wave'].value_counts().index, palette=\"Greens_d\")\n",
    "ax.set(xlabel='Wave', ylabel='Count')\n",
    "pyplot.show()"
   ]
  },
  {
   "cell_type": "code",
   "execution_count": null,
   "metadata": {},
   "outputs": [],
   "source": [
    "## No Tours by Wave\n",
    "pyplot.figure(figsize=(10, 6))\n",
    "ax = sns.countplot(data=no_tours_df,\n",
    "                   x='Wave',\n",
    "                   order = no_tours_df['Wave'].value_counts().index, palette=\"Greens_d\")\n",
    "ax.set(xlabel='Wave', ylabel='Count')\n",
    "pyplot.show()"
   ]
  },
  {
   "cell_type": "code",
   "execution_count": null,
   "metadata": {},
   "outputs": [],
   "source": [
    "## Tours by Resorts\n",
    "pyplot.figure(figsize=(10, 6))\n",
    "ax = sns.countplot(data=no_tours_df,\n",
    "                   x='Resort',\n",
    "                   order = no_tours_df['Resort'].value_counts().index, palette=\"Greens_d\", hue = 'Wave')\n",
    "ax.set(xlabel='Resort', ylabel='Count')\n",
    "pyplot.show()"
   ]
  },
  {
   "cell_type": "code",
   "execution_count": null,
   "metadata": {},
   "outputs": [],
   "source": [
    "## Tours by Resorts\n",
    "pyplot.figure(figsize=(10, 6))\n",
    "ax = sns.countplot(data=tours_df,\n",
    "                   x='Resort',\n",
    "                   order = tours_df['Resort'].value_counts().index, palette=\"Greens_d\", hue = 'Wave')\n",
    "ax.set(xlabel='Resort', ylabel='Count')\n",
    "pyplot.show()"
   ]
  },
  {
   "cell_type": "code",
   "execution_count": null,
   "metadata": {},
   "outputs": [],
   "source": [
    "## Tours by Resorts\n",
    "pyplot.figure(figsize=(10, 6))\n",
    "ax = sns.countplot(data=tours_df,\n",
    "                   x='Resort',\n",
    "                   order = tours_df['Resort'].value_counts().index, palette=\"Blues_d\", hue = 'TourType')\n",
    "ax.set(xlabel='Resort', ylabel='Count')\n",
    "pyplot.show()"
   ]
  },
  {
   "cell_type": "code",
   "execution_count": null,
   "metadata": {},
   "outputs": [],
   "source": [
    "## Tours by Resorts\n",
    "pyplot.figure(figsize=(10, 6))\n",
    "ax = sns.countplot(data=no_tours_df,\n",
    "                   x='Resort',\n",
    "                   order = no_tours_df['Resort'].value_counts().index, palette=\"Blues_d\", hue = 'TourType')\n",
    "ax.set(xlabel='Resort', ylabel='Count')\n",
    "pyplot.show()"
   ]
  },
  {
   "cell_type": "code",
   "execution_count": null,
   "metadata": {},
   "outputs": [],
   "source": [
    "## Tours by Resorts\n",
    "pyplot.figure(figsize=(10, 6))\n",
    "ax = sns.countplot(data=tours_df,\n",
    "                   x='Wave',\n",
    "                   order = tours_df['Wave'].value_counts().index, palette=\"Blues_d\", hue = 'TourType')\n",
    "ax.set(xlabel='TourType', ylabel='Count')\n",
    "pyplot.show()"
   ]
  },
  {
   "cell_type": "code",
   "execution_count": null,
   "metadata": {},
   "outputs": [],
   "source": [
    "## No Tours by Resorts\n",
    "pyplot.figure(figsize=(10, 6))\n",
    "ax = sns.countplot(data=no_tours_df,\n",
    "                   x='Wave',\n",
    "                   order = no_tours_df['Wave'].value_counts().index, palette=\"Blues_d\", hue = 'TourType')\n",
    "ax.set(xlabel='TourType', ylabel='Count')\n",
    "pyplot.show()"
   ]
  },
  {
   "cell_type": "code",
   "execution_count": null,
   "metadata": {},
   "outputs": [],
   "source": [
    "tours_df.columns"
   ]
  },
  {
   "cell_type": "code",
   "execution_count": null,
   "metadata": {},
   "outputs": [],
   "source": [
    "tours_df.Reserve_difference.value_counts()"
   ]
  },
  {
   "cell_type": "code",
   "execution_count": null,
   "metadata": {},
   "outputs": [],
   "source": [
    "no_tours_df.Reserve_difference.value_counts()"
   ]
  },
  {
   "cell_type": "code",
   "execution_count": null,
   "metadata": {
    "scrolled": true
   },
   "outputs": [],
   "source": [
    "tours_df.Week_Number.value_counts()"
   ]
  },
  {
   "cell_type": "code",
   "execution_count": null,
   "metadata": {
    "scrolled": true
   },
   "outputs": [],
   "source": [
    "no_tours_df.Week_Number.value_counts()"
   ]
  },
  {
   "cell_type": "code",
   "execution_count": null,
   "metadata": {},
   "outputs": [],
   "source": [
    "tours_df.BookingAge.value_counts()"
   ]
  },
  {
   "cell_type": "code",
   "execution_count": null,
   "metadata": {},
   "outputs": [],
   "source": [
    "# cor_mat = tours_df.loc[tours_df.is_RVOwner == 1,['BLR', 'LSR', 'NSL', 'RFR', 'TNC','TRG', 'TRO','Wave','WeekNumber']].corr()\n",
    "# f, ax = pyplot.subplots(figsize=(16,8))\n",
    "# sns.heatmap(cor_mat,linewidths=.5, annot=True, ax=ax);"
   ]
  },
  {
   "cell_type": "code",
   "execution_count": null,
   "metadata": {},
   "outputs": [],
   "source": [
    "tours_df.ScheduledDayOfWeek"
   ]
  },
  {
   "cell_type": "code",
   "execution_count": null,
   "metadata": {},
   "outputs": [],
   "source": [
    "cor_mat = tours_df.loc[:,['BLR', 'LSR', 'NSL', 'RFR', 'TNC','TRG', 'TRO','WeekNumber_0', 'WeekNumber_1',\n",
    "                          'WeekNumber_2','WeekNumber_3', 'WeekNumber_4', 'WeekNumber_5', 'WeekNumber_6',\n",
    "                          'is_RVOwner']].sample(100).corr()\n",
    "f, ax = pyplot.subplots(figsize=(16,8))\n",
    "sns.heatmap(cor_mat,linewidths=.5, annot=True, ax=ax);"
   ]
  },
  {
   "cell_type": "code",
   "execution_count": null,
   "metadata": {},
   "outputs": [],
   "source": [
    "cor_mat = no_tours_df.loc[:,['BLR', 'LSR', 'NSL', 'RFR', 'TNC','TRG', 'TRO','WeekNumber_0', 'WeekNumber_1',\n",
    "                          'WeekNumber_2','WeekNumber_3', 'WeekNumber_4', 'WeekNumber_5', 'WeekNumber_6',\n",
    "                          'is_RVOwner']].sample(1000).corr()\n",
    "f, ax = pyplot.subplots(figsize=(16,8))\n",
    "sns.heatmap(cor_mat,linewidths=.5, annot=True, ax=ax);"
   ]
  },
  {
   "cell_type": "code",
   "execution_count": null,
   "metadata": {},
   "outputs": [],
   "source": [
    "## No Tours by Resorts\n",
    "pyplot.figure(figsize=(10, 6))\n",
    "ax = sns.countplot(data=no_tours_df,\n",
    "                   x='WeekNumber',\n",
    "                   order = no_tours_df['WeekNumber'].value_counts().index, palette=\"Blues_d\", hue = 'LSR')\n",
    "ax.set(xlabel='WeekNumber', ylabel='Count')\n",
    "pyplot.show()"
   ]
  },
  {
   "cell_type": "code",
   "execution_count": null,
   "metadata": {},
   "outputs": [],
   "source": [
    "sns.pairplot(EDA_df[['is_RVOwner','BookingAge','Target']], hue=\"Target\", size=2, diag_kind=\"kde\");"
   ]
  },
  {
   "cell_type": "code",
   "execution_count": null,
   "metadata": {},
   "outputs": [],
   "source": []
  },
  {
   "cell_type": "code",
   "execution_count": null,
   "metadata": {},
   "outputs": [],
   "source": []
  }
 ],
 "metadata": {
  "kernelspec": {
   "display_name": "Python 3",
   "language": "python",
   "name": "python3"
  },
  "language_info": {
   "codemirror_mode": {
    "name": "ipython",
    "version": 3
   },
   "file_extension": ".py",
   "mimetype": "text/x-python",
   "name": "python",
   "nbconvert_exporter": "python",
   "pygments_lexer": "ipython3",
   "version": "3.8.3"
  }
 },
 "nbformat": 4,
 "nbformat_minor": 4
}
